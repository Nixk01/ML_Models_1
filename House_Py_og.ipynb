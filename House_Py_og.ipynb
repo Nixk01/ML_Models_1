{
 "cells": [
  {
   "cell_type": "code",
   "execution_count": 3,
   "metadata": {
    "colab": {},
    "colab_type": "code",
    "executionInfo": {
     "elapsed": 1630,
     "status": "ok",
     "timestamp": 1594128922382,
     "user": {
      "displayName": "Nixk Jadhav",
      "photoUrl": "https://lh3.googleusercontent.com/a-/AOh14GiJPtOCjToxBSlUNLqmnMZ9wx1e6oBc9k4QtLOhqA=s64",
      "userId": "14283952143457069323"
     },
     "user_tz": -330
    },
    "id": "A5SSF0SbZlhF"
   },
   "outputs": [],
   "source": [
    "# libraries for numerical\n",
    "import pandas as pd  \n",
    "import numpy as np\n",
    "# libraries for machine learning\n",
    "from sklearn.model_selection import train_test_split \n",
    "from sklearn.linear_model import LinearRegression\n"
   ]
  },
  {
   "cell_type": "code",
   "execution_count": null,
   "metadata": {
    "colab": {},
    "colab_type": "code",
    "id": "IUUuD56gZlhN"
   },
   "outputs": [],
   "source": [
    "# Load the kc housing dataset\n",
    "house_data = pd.read_csv('https://raw.githubusercontent.com/dphi-official/Datasets/master/kc_house_data/kc_house_data.csv')\n",
    "house_data.head()"
   ]
  },
  {
   "cell_type": "markdown",
   "metadata": {
    "colab_type": "text",
    "id": "xGV-WGcEaFy5"
   },
   "source": [
    "## Separating Input and Output Variables"
   ]
  },
  {
   "cell_type": "code",
   "execution_count": 5,
   "metadata": {
    "colab": {},
    "colab_type": "code",
    "executionInfo": {
     "elapsed": 1381,
     "status": "ok",
     "timestamp": 1594128929418,
     "user": {
      "displayName": "Nixk Jadhav",
      "photoUrl": "https://lh3.googleusercontent.com/a-/AOh14GiJPtOCjToxBSlUNLqmnMZ9wx1e6oBc9k4QtLOhqA=s64",
      "userId": "14283952143457069323"
     },
     "user_tz": -330
    },
    "id": "1eghdhQPaJ85"
   },
   "outputs": [],
   "source": [
    "X = house_data.drop('price', axis = 1)\n",
    "y = house_data['price']"
   ]
  },
  {
   "cell_type": "code",
   "execution_count": null,
   "metadata": {
    "colab": {},
    "colab_type": "code",
    "id": "3qck3SoyP1Vr"
   },
   "outputs": [],
   "source": [
    "X.info()"
   ]
  },
  {
   "cell_type": "markdown",
   "metadata": {
    "colab_type": "text",
    "id": "ZGowkyd_ZliM"
   },
   "source": [
    "# Split The Data"
   ]
  },
  {
   "cell_type": "code",
   "execution_count": 33,
   "metadata": {
    "colab": {},
    "colab_type": "code",
    "executionInfo": {
     "elapsed": 1157,
     "status": "ok",
     "timestamp": 1594129291382,
     "user": {
      "displayName": "Nixk Jadhav",
      "photoUrl": "https://lh3.googleusercontent.com/a-/AOh14GiJPtOCjToxBSlUNLqmnMZ9wx1e6oBc9k4QtLOhqA=s64",
      "userId": "14283952143457069323"
     },
     "user_tz": -330
    },
    "id": "rWkqYSUkZliN"
   },
   "outputs": [],
   "source": [
    "X_train, X_test, y_train, y_test = train_test_split(X, y, test_size = 0.3, random_state = 6)"
   ]
  },
  {
   "cell_type": "markdown",
   "metadata": {
    "colab_type": "text",
    "id": "aj6kkNAkZliT"
   },
   "source": [
    "# Model Building"
   ]
  },
  {
   "cell_type": "code",
   "execution_count": 34,
   "metadata": {
    "colab": {
     "base_uri": "https://localhost:8080/",
     "height": 35
    },
    "colab_type": "code",
    "executionInfo": {
     "elapsed": 1175,
     "status": "ok",
     "timestamp": 1594129295225,
     "user": {
      "displayName": "Nixk Jadhav",
      "photoUrl": "https://lh3.googleusercontent.com/a-/AOh14GiJPtOCjToxBSlUNLqmnMZ9wx1e6oBc9k4QtLOhqA=s64",
      "userId": "14283952143457069323"
     },
     "user_tz": -330
    },
    "id": "l4cfNzcuZliU",
    "outputId": "7f5d5c35-c35d-4c2d-a0a0-0d0b12365033"
   },
   "outputs": [
    {
     "data": {
      "text/plain": [
       "LinearRegression(copy_X=True, fit_intercept=True, n_jobs=None, normalize=False)"
      ]
     },
     "execution_count": 34,
     "metadata": {
      "tags": []
     },
     "output_type": "execute_result"
    }
   ],
   "source": [
    "model = LinearRegression()\n",
    "model.fit(X_train, y_train)"
   ]
  },
  {
   "cell_type": "markdown",
   "metadata": {
    "colab_type": "text",
    "id": "QuWXJQbRE-Tv"
   },
   "source": [
    "# Model Peformance on Train Dataset"
   ]
  },
  {
   "cell_type": "code",
   "execution_count": 35,
   "metadata": {
    "colab": {},
    "colab_type": "code",
    "executionInfo": {
     "elapsed": 1418,
     "status": "ok",
     "timestamp": 1594129299428,
     "user": {
      "displayName": "Nixk Jadhav",
      "photoUrl": "https://lh3.googleusercontent.com/a-/AOh14GiJPtOCjToxBSlUNLqmnMZ9wx1e6oBc9k4QtLOhqA=s64",
      "userId": "14283952143457069323"
     },
     "user_tz": -330
    },
    "id": "iepQFnstDq7s"
   },
   "outputs": [],
   "source": [
    "pred_train = model.predict(X_train)"
   ]
  },
  {
   "cell_type": "code",
   "execution_count": 36,
   "metadata": {
    "colab": {
     "base_uri": "https://localhost:8080/",
     "height": 35
    },
    "colab_type": "code",
    "executionInfo": {
     "elapsed": 1169,
     "status": "ok",
     "timestamp": 1594129312120,
     "user": {
      "displayName": "Nixk Jadhav",
      "photoUrl": "https://lh3.googleusercontent.com/a-/AOh14GiJPtOCjToxBSlUNLqmnMZ9wx1e6oBc9k4QtLOhqA=s64",
      "userId": "14283952143457069323"
     },
     "user_tz": -330
    },
    "id": "kZYafWkSDwYw",
    "outputId": "0afcf6d8-134f-4387-9a12-a911c5d21580"
   },
   "outputs": [
    {
     "data": {
      "text/plain": [
       "198901.9623729966"
      ]
     },
     "execution_count": 36,
     "metadata": {
      "tags": []
     },
     "output_type": "execute_result"
    }
   ],
   "source": [
    "# Root Mean Squarred Error 6\n",
    "from sklearn.metrics import mean_squared_error\n",
    "np.sqrt(mean_squared_error(y_train, pred_train))"
   ]
  },
  {
   "cell_type": "code",
   "execution_count": 14,
   "metadata": {
    "colab": {
     "base_uri": "https://localhost:8080/",
     "height": 35
    },
    "colab_type": "code",
    "executionInfo": {
     "elapsed": 1332,
     "status": "ok",
     "timestamp": 1594129020636,
     "user": {
      "displayName": "Nixk Jadhav",
      "photoUrl": "https://lh3.googleusercontent.com/a-/AOh14GiJPtOCjToxBSlUNLqmnMZ9wx1e6oBc9k4QtLOhqA=s64",
      "userId": "14283952143457069323"
     },
     "user_tz": -330
    },
    "id": "tq-QrMTIatO6",
    "outputId": "4169dccf-f50d-4c97-c5df-6ffb35338bf0"
   },
   "outputs": [
    {
     "data": {
      "text/plain": [
       "203136.41485188776"
      ]
     },
     "execution_count": 14,
     "metadata": {
      "tags": []
     },
     "output_type": "execute_result"
    }
   ],
   "source": [
    "# Root Mean Squarred Error R_s value:-7\n",
    "from sklearn.metrics import mean_squared_error\n",
    "np.sqrt(mean_squared_error(y_train, pred_train))"
   ]
  },
  {
   "cell_type": "markdown",
   "metadata": {
    "colab_type": "text",
    "id": "SHprG0pkbmxO"
   },
   "source": [
    "### Prediction on X_test"
   ]
  },
  {
   "cell_type": "code",
   "execution_count": 37,
   "metadata": {
    "colab": {},
    "colab_type": "code",
    "executionInfo": {
     "elapsed": 1390,
     "status": "ok",
     "timestamp": 1594129320268,
     "user": {
      "displayName": "Nixk Jadhav",
      "photoUrl": "https://lh3.googleusercontent.com/a-/AOh14GiJPtOCjToxBSlUNLqmnMZ9wx1e6oBc9k4QtLOhqA=s64",
      "userId": "14283952143457069323"
     },
     "user_tz": -330
    },
    "id": "qKxtGSrnbr_q"
   },
   "outputs": [],
   "source": [
    "pred = model.predict(X_test)"
   ]
  },
  {
   "cell_type": "markdown",
   "metadata": {
    "colab_type": "text",
    "id": "sVP-tP69bw9q"
   },
   "source": [
    "# Model Evaluation/Performance on Test Dataset"
   ]
  },
  {
   "cell_type": "code",
   "execution_count": 38,
   "metadata": {
    "colab": {
     "base_uri": "https://localhost:8080/",
     "height": 35
    },
    "colab_type": "code",
    "executionInfo": {
     "elapsed": 1249,
     "status": "ok",
     "timestamp": 1594129327910,
     "user": {
      "displayName": "Nixk Jadhav",
      "photoUrl": "https://lh3.googleusercontent.com/a-/AOh14GiJPtOCjToxBSlUNLqmnMZ9wx1e6oBc9k4QtLOhqA=s64",
      "userId": "14283952143457069323"
     },
     "user_tz": -330
    },
    "id": "xjbTD2ZSbwIl",
    "outputId": "7be84491-df22-4c6d-f981-89ceabc45d82"
   },
   "outputs": [
    {
     "data": {
      "text/plain": [
       "204854.23967704765"
      ]
     },
     "execution_count": 38,
     "metadata": {
      "tags": []
     },
     "output_type": "execute_result"
    }
   ],
   "source": [
    "# Root Mean Squarred Error r_s-6\n",
    "from sklearn.metrics import mean_squared_error\n",
    "np.sqrt(mean_squared_error(y_test, pred))"
   ]
  },
  {
   "cell_type": "code",
   "execution_count": 16,
   "metadata": {
    "colab": {
     "base_uri": "https://localhost:8080/",
     "height": 35
    },
    "colab_type": "code",
    "executionInfo": {
     "elapsed": 1603,
     "status": "ok",
     "timestamp": 1594129032693,
     "user": {
      "displayName": "Nixk Jadhav",
      "photoUrl": "https://lh3.googleusercontent.com/a-/AOh14GiJPtOCjToxBSlUNLqmnMZ9wx1e6oBc9k4QtLOhqA=s64",
      "userId": "14283952143457069323"
     },
     "user_tz": -330
    },
    "id": "qswOMNJqVCen",
    "outputId": "6a6faea3-da4d-47d1-c513-59607907a7b7"
   },
   "outputs": [
    {
     "data": {
      "text/plain": [
       "195359.79292611056"
      ]
     },
     "execution_count": 16,
     "metadata": {
      "tags": []
     },
     "output_type": "execute_result"
    }
   ],
   "source": [
    "# Root Mean Squarred Error r_s 7\n",
    "from sklearn.metrics import mean_squared_error\n",
    "np.sqrt(mean_squared_error(y_test, pred))"
   ]
  },
  {
   "cell_type": "markdown",
   "metadata": {
    "colab_type": "text",
    "id": "ssO9lBF_cRQ2"
   },
   "source": [
    "## Load New Test Data"
   ]
  },
  {
   "cell_type": "code",
   "execution_count": 39,
   "metadata": {
    "colab": {},
    "colab_type": "code",
    "executionInfo": {
     "elapsed": 1487,
     "status": "ok",
     "timestamp": 1594129352871,
     "user": {
      "displayName": "Nixk Jadhav",
      "photoUrl": "https://lh3.googleusercontent.com/a-/AOh14GiJPtOCjToxBSlUNLqmnMZ9wx1e6oBc9k4QtLOhqA=s64",
      "userId": "14283952143457069323"
     },
     "user_tz": -330
    },
    "id": "3GWXugIucUwE"
   },
   "outputs": [],
   "source": [
    "test_new = pd.read_csv('https://raw.githubusercontent.com/dphi-official/Datasets/master/kc_house_data/kc_house_new_test_data.csv')"
   ]
  },
  {
   "cell_type": "code",
   "execution_count": null,
   "metadata": {
    "colab": {},
    "colab_type": "code",
    "id": "VuWrELmnnyTj"
   },
   "outputs": [],
   "source": [
    "test_new.head()"
   ]
  },
  {
   "cell_type": "code",
   "execution_count": 19,
   "metadata": {
    "colab": {
     "base_uri": "https://localhost:8080/",
     "height": 35
    },
    "colab_type": "code",
    "executionInfo": {
     "elapsed": 1377,
     "status": "ok",
     "timestamp": 1594129041665,
     "user": {
      "displayName": "Nixk Jadhav",
      "photoUrl": "https://lh3.googleusercontent.com/a-/AOh14GiJPtOCjToxBSlUNLqmnMZ9wx1e6oBc9k4QtLOhqA=s64",
      "userId": "14283952143457069323"
     },
     "user_tz": -330
    },
    "id": "13c_SqEJRdeG",
    "outputId": "443eb37b-5daf-43f6-e94d-de3762bd9b25"
   },
   "outputs": [
    {
     "data": {
      "text/plain": [
       "18"
      ]
     },
     "execution_count": 19,
     "metadata": {
      "tags": []
     },
     "output_type": "execute_result"
    }
   ],
   "source": [
    "len(test_new.columns)"
   ]
  },
  {
   "cell_type": "markdown",
   "metadata": {
    "colab_type": "text",
    "id": "0oc-8sFccIHv"
   },
   "source": [
    "## Prediction on new Test Data"
   ]
  },
  {
   "cell_type": "code",
   "execution_count": 40,
   "metadata": {
    "colab": {},
    "colab_type": "code",
    "executionInfo": {
     "elapsed": 1548,
     "status": "ok",
     "timestamp": 1594129357205,
     "user": {
      "displayName": "Nixk Jadhav",
      "photoUrl": "https://lh3.googleusercontent.com/a-/AOh14GiJPtOCjToxBSlUNLqmnMZ9wx1e6oBc9k4QtLOhqA=s64",
      "userId": "14283952143457069323"
     },
     "user_tz": -330
    },
    "id": "LCAFetpzo_Ly"
   },
   "outputs": [],
   "source": [
    "price = model.predict(test_new)"
   ]
  },
  {
   "cell_type": "code",
   "execution_count": 51,
   "metadata": {
    "colab": {},
    "colab_type": "code",
    "executionInfo": {
     "elapsed": 1381,
     "status": "ok",
     "timestamp": 1594128779361,
     "user": {
      "displayName": "Nixk Jadhav",
      "photoUrl": "https://lh3.googleusercontent.com/a-/AOh14GiJPtOCjToxBSlUNLqmnMZ9wx1e6oBc9k4QtLOhqA=s64",
      "userId": "14283952143457069323"
     },
     "user_tz": -330
    },
    "id": "F8HmIW2kb8er"
   },
   "outputs": [],
   "source": [
    "price = model.predict(test_new)"
   ]
  },
  {
   "cell_type": "code",
   "execution_count": 41,
   "metadata": {
    "colab": {
     "base_uri": "https://localhost:8080/",
     "height": 52
    },
    "colab_type": "code",
    "executionInfo": {
     "elapsed": 1411,
     "status": "ok",
     "timestamp": 1594129360674,
     "user": {
      "displayName": "Nixk Jadhav",
      "photoUrl": "https://lh3.googleusercontent.com/a-/AOh14GiJPtOCjToxBSlUNLqmnMZ9wx1e6oBc9k4QtLOhqA=s64",
      "userId": "14283952143457069323"
     },
     "user_tz": -330
    },
    "id": "78H4IvJJetho",
    "outputId": "9f01bdba-767b-43ae-f24c-af462591b722"
   },
   "outputs": [
    {
     "data": {
      "text/plain": [
       "array([1742029.07019424,  696064.81573907,  460565.6009578 , ...,\n",
       "        112973.28099102,  359714.80075674,  116012.86843205])"
      ]
     },
     "execution_count": 41,
     "metadata": {
      "tags": []
     },
     "output_type": "execute_result"
    }
   ],
   "source": [
    "price"
   ]
  },
  {
   "cell_type": "markdown",
   "metadata": {
    "colab_type": "text",
    "id": "JssY-_dNdGHg"
   },
   "source": [
    "# How to save prediciton results locally via jupyter notebook?\n",
    "If you are working on Jupyter notebook, execute below block of codes. A file named 'prediction_results_HP.csv' will be created in your current working directory."
   ]
  },
  {
   "cell_type": "code",
   "execution_count": 39,
   "metadata": {
    "colab": {},
    "colab_type": "code",
    "executionInfo": {
     "elapsed": 1261,
     "status": "ok",
     "timestamp": 1594128268203,
     "user": {
      "displayName": "Nixk Jadhav",
      "photoUrl": "https://lh3.googleusercontent.com/a-/AOh14GiJPtOCjToxBSlUNLqmnMZ9wx1e6oBc9k4QtLOhqA=s64",
      "userId": "14283952143457069323"
     },
     "user_tz": -330
    },
    "id": "3q-7S8JYc4L_"
   },
   "outputs": [],
   "source": [
    "res = pd.DataFrame(price)\n",
    "res.index = test_new.index # its important for comparison\n",
    "res.columns = [\"price\"]\n",
    "res.to_csv(\"prediction_results_HP.csv\")      # the csv file will be saved locally on the same location where this notebook is located."
   ]
  },
  {
   "cell_type": "markdown",
   "metadata": {
    "colab_type": "text",
    "id": "tlZgDF41dXTU"
   },
   "source": [
    "# How to save prediction results locally via colab notebook?\n",
    "If you are working on Google Colab Notebook, execute below block of codes. A file named 'prediction_results_HP' will be downloaded in your system."
   ]
  },
  {
   "cell_type": "code",
   "execution_count": 43,
   "metadata": {
    "colab": {
     "base_uri": "https://localhost:8080/",
     "height": 17
    },
    "colab_type": "code",
    "executionInfo": {
     "elapsed": 1206,
     "status": "ok",
     "timestamp": 1594129546265,
     "user": {
      "displayName": "Nixk Jadhav",
      "photoUrl": "https://lh3.googleusercontent.com/a-/AOh14GiJPtOCjToxBSlUNLqmnMZ9wx1e6oBc9k4QtLOhqA=s64",
      "userId": "14283952143457069323"
     },
     "user_tz": -330
    },
    "id": "skZ6vl4CdUID",
    "outputId": "d6ce38c7-01d2-4451-c4fc-0780a11fa089"
   },
   "outputs": [
    {
     "data": {
      "application/javascript": [
       "\n",
       "    async function download(id, filename, size) {\n",
       "      if (!google.colab.kernel.accessAllowed) {\n",
       "        return;\n",
       "      }\n",
       "      const div = document.createElement('div');\n",
       "      const label = document.createElement('label');\n",
       "      label.textContent = `Downloading \"${filename}\": `;\n",
       "      div.appendChild(label);\n",
       "      const progress = document.createElement('progress');\n",
       "      progress.max = size;\n",
       "      div.appendChild(progress);\n",
       "      document.body.appendChild(div);\n",
       "\n",
       "      const buffers = [];\n",
       "      let downloaded = 0;\n",
       "\n",
       "      const channel = await google.colab.kernel.comms.open(id);\n",
       "      // Send a message to notify the kernel that we're ready.\n",
       "      channel.send({})\n",
       "\n",
       "      for await (const message of channel.messages) {\n",
       "        // Send a message to notify the kernel that we're ready.\n",
       "        channel.send({})\n",
       "        if (message.buffers) {\n",
       "          for (const buffer of message.buffers) {\n",
       "            buffers.push(buffer);\n",
       "            downloaded += buffer.byteLength;\n",
       "            progress.value = downloaded;\n",
       "          }\n",
       "        }\n",
       "      }\n",
       "      const blob = new Blob(buffers, {type: 'application/binary'});\n",
       "      const a = document.createElement('a');\n",
       "      a.href = window.URL.createObjectURL(blob);\n",
       "      a.download = filename;\n",
       "      div.appendChild(a);\n",
       "      a.click();\n",
       "      div.remove();\n",
       "    }\n",
       "  "
      ],
      "text/plain": [
       "<IPython.core.display.Javascript object>"
      ]
     },
     "metadata": {
      "tags": []
     },
     "output_type": "display_data"
    },
    {
     "data": {
      "application/javascript": [
       "download(\"download_2146aeb6-3676-418c-8570-1b2238fbcaa3\", \"prediction_results_HP.csv\", 115179)"
      ],
      "text/plain": [
       "<IPython.core.display.Javascript object>"
      ]
     },
     "metadata": {
      "tags": []
     },
     "output_type": "display_data"
    }
   ],
   "source": [
    "# To create Dataframe of predicted value with particular respective index\n",
    "res = pd.DataFrame(price)\n",
    "res.index = test_new.index # its important for comparison\n",
    "res.columns = [\"price\"]\n",
    "\n",
    "# To download the csv file locally\n",
    "from google.colab import files\n",
    "res.to_csv('prediction_results_HP.csv')         \n",
    "files.download('prediction_results_HP.csv')"
   ]
  }
 ],
 "metadata": {
  "colab": {
   "name": "Copy of Sample.ipynb",
   "provenance": [
    {
     "file_id": "1l8jHbMqxZ_11Lu-7Uor0udQQD--mdnXx",
     "timestamp": 1594129728833
    }
   ]
  },
  "kernelspec": {
   "display_name": "Python 3",
   "language": "python",
   "name": "python3"
  },
  "language_info": {
   "codemirror_mode": {
    "name": "ipython",
    "version": 3
   },
   "file_extension": ".py",
   "mimetype": "text/x-python",
   "name": "python",
   "nbconvert_exporter": "python",
   "pygments_lexer": "ipython3",
   "version": "3.6.4"
  }
 },
 "nbformat": 4,
 "nbformat_minor": 1
}
