{
 "cells": [
  {
   "cell_type": "code",
   "execution_count": 0,
   "metadata": {
    "colab": {},
    "colab_type": "code",
    "id": "2XJkAlAoruEC"
   },
   "outputs": [],
   "source": [
    "import pandas as pd\n"
   ]
  },
  {
   "cell_type": "code",
   "execution_count": 10,
   "metadata": {
    "colab": {
     "base_uri": "https://localhost:8080/",
     "height": 34
    },
    "colab_type": "code",
    "executionInfo": {
     "elapsed": 4921,
     "status": "ok",
     "timestamp": 1591531980930,
     "user": {
      "displayName": "Nixk Jadhav",
      "photoUrl": "https://lh3.googleusercontent.com/a-/AOh14GiJPtOCjToxBSlUNLqmnMZ9wx1e6oBc9k4QtLOhqA=s64",
      "userId": "14283952143457069323"
     },
     "user_tz": -330
    },
    "id": "EPxC8XT7skZ8",
    "outputId": "56e836a3-0f4a-4dad-a049-1391a3f8bb40"
   },
   "outputs": [
    {
     "name": "stdout",
     "output_type": "stream",
     "text": [
      "/bin/bash: pip install pandas: command not found\n"
     ]
    }
   ],
   "source": [
    "!pip install pandas"
   ]
  },
  {
   "cell_type": "code",
   "execution_count": 3,
   "metadata": {
    "colab": {
     "base_uri": "https://localhost:8080/",
     "height": 34
    },
    "colab_type": "code",
    "executionInfo": {
     "elapsed": 1590,
     "status": "ok",
     "timestamp": 1591531881356,
     "user": {
      "displayName": "Nixk Jadhav",
      "photoUrl": "https://lh3.googleusercontent.com/a-/AOh14GiJPtOCjToxBSlUNLqmnMZ9wx1e6oBc9k4QtLOhqA=s64",
      "userId": "14283952143457069323"
     },
     "user_tz": -330
    },
    "id": "HWWI8lxzr9J2",
    "outputId": "901eb156-b62e-4fb5-f41f-a174be4eefac"
   },
   "outputs": [
    {
     "data": {
      "text/plain": [
       "{'app': [1, 5, 48, 0, 99], 'block': [55, 4, 9, 7, 0]}"
      ]
     },
     "execution_count": 3,
     "metadata": {
      "tags": []
     },
     "output_type": "execute_result"
    }
   ],
   "source": [
    "data={'app':[1,5,48,0,99],\n",
    "      'block':[55,4,9,7,00]}\n",
    "data\n"
   ]
  },
  {
   "cell_type": "code",
   "execution_count": 11,
   "metadata": {
    "colab": {
     "base_uri": "https://localhost:8080/",
     "height": 185
    },
    "colab_type": "code",
    "executionInfo": {
     "elapsed": 1475,
     "status": "error",
     "timestamp": 1591531996058,
     "user": {
      "displayName": "Nixk Jadhav",
      "photoUrl": "https://lh3.googleusercontent.com/a-/AOh14GiJPtOCjToxBSlUNLqmnMZ9wx1e6oBc9k4QtLOhqA=s64",
      "userId": "14283952143457069323"
     },
     "user_tz": -330
    },
    "id": "N1m5z_u7sQgt",
    "outputId": "904bba0c-3d40-42a3-8ae2-71a260ae2ac1"
   },
   "outputs": [
    {
     "ename": "NameError",
     "evalue": "ignored",
     "output_type": "error",
     "traceback": [
      "\u001b[0;31m---------------------------------------------------------------------------\u001b[0m",
      "\u001b[0;31mNameError\u001b[0m                                 Traceback (most recent call last)",
      "\u001b[0;32m<ipython-input-11-eac69f24d595>\u001b[0m in \u001b[0;36m<module>\u001b[0;34m()\u001b[0m\n\u001b[0;32m----> 1\u001b[0;31m \u001b[0mdf\u001b[0m\u001b[0;34m=\u001b[0m\u001b[0mpd\u001b[0m\u001b[0;34m.\u001b[0m\u001b[0mDataFrame\u001b[0m\u001b[0;34m(\u001b[0m\u001b[0mdata\u001b[0m\u001b[0;34m)\u001b[0m\u001b[0;34m\u001b[0m\u001b[0;34m\u001b[0m\u001b[0m\n\u001b[0m\u001b[1;32m      2\u001b[0m \u001b[0mdf\u001b[0m\u001b[0;34m\u001b[0m\u001b[0;34m\u001b[0m\u001b[0m\n",
      "\u001b[0;31mNameError\u001b[0m: name 'pd' is not defined"
     ]
    }
   ],
   "source": [
    "df=pd.DataFrame(data)\n",
    "df"
   ]
  },
  {
   "cell_type": "code",
   "execution_count": 0,
   "metadata": {
    "colab": {},
    "colab_type": "code",
    "id": "c03_kYuvsbzQ"
   },
   "outputs": [],
   "source": []
  }
 ],
 "metadata": {
  "colab": {
   "authorship_tag": "ABX9TyNS/fQR8SGMpsJE3FUfa5ox",
   "name": "Copy of Pt1.ipynb",
   "provenance": [
    {
     "file_id": "1P3CKBmybQ_LUVmkCyqqqqZf6YL8x8Hhf",
     "timestamp": 1591532046776
    }
   ]
  },
  "kernelspec": {
   "display_name": "Python 3",
   "language": "python",
   "name": "python3"
  },
  "language_info": {
   "codemirror_mode": {
    "name": "ipython",
    "version": 3
   },
   "file_extension": ".py",
   "mimetype": "text/x-python",
   "name": "python",
   "nbconvert_exporter": "python",
   "pygments_lexer": "ipython3",
   "version": "3.6.4"
  }
 },
 "nbformat": 4,
 "nbformat_minor": 1
}
