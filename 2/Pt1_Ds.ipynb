{
 "cells": [
  {
   "cell_type": "code",
   "execution_count": 0,
   "metadata": {
    "colab": {},
    "colab_type": "code",
    "id": "2XJkAlAoruEC"
   },
   "outputs": [],
   "source": [
    "import pandas as pd\n"
   ]
  },
  {
   "cell_type": "code",
   "execution_count": 2,
   "metadata": {
    "colab": {
     "base_uri": "https://localhost:8080/",
     "height": 33
    },
    "colab_type": "code",
    "executionInfo": {
     "elapsed": 4016,
     "status": "ok",
     "timestamp": 1591622416890,
     "user": {
      "displayName": "Nixk Jadhav",
      "photoUrl": "https://lh3.googleusercontent.com/a-/AOh14GiJPtOCjToxBSlUNLqmnMZ9wx1e6oBc9k4QtLOhqA=s64",
      "userId": "14283952143457069323"
     },
     "user_tz": -330
    },
    "id": "EPxC8XT7skZ8",
    "outputId": "6e14cc8a-c1aa-4f1d-ee5c-d826e5a42dd5"
   },
   "outputs": [
    {
     "name": "stdout",
     "output_type": "stream",
     "text": [
      "/bin/bash: pip install pandas: command not found\n"
     ]
    }
   ],
   "source": [
    "!pip install pandas"
   ]
  },
  {
   "cell_type": "code",
   "execution_count": 0,
   "metadata": {
    "colab": {},
    "colab_type": "code",
    "id": "HWWI8lxzr9J2"
   },
   "outputs": [],
   "source": [
    "data={'app':[1,5,48,0,99],\n",
    "      'block':[55,4,9,7,00]}\n",
    "data"
   ]
  },
  {
   "cell_type": "code",
   "execution_count": 0,
   "metadata": {
    "colab": {},
    "colab_type": "code",
    "id": "N1m5z_u7sQgt"
   },
   "outputs": [],
   "source": [
    "d1=pd.DataFrame(data,index=['Nixk','Jack','Jill','John','Joe'])\n",
    "d1"
   ]
  },
  {
   "cell_type": "code",
   "execution_count": 0,
   "metadata": {
    "colab": {},
    "colab_type": "code",
    "id": "ImD9huIzuPUb"
   },
   "outputs": [],
   "source": [
    "from google.colab import files\n",
    "uploaded = files.upload()"
   ]
  },
  {
   "cell_type": "code",
   "execution_count": 0,
   "metadata": {
    "colab": {},
    "colab_type": "code",
    "id": "ZMQG-CyhuCmr"
   },
   "outputs": [],
   "source": [
    "df=pd.read_csv('Standard Metropolitan Areas Data - train_data - data.csv')\n",
    "df"
   ]
  },
  {
   "cell_type": "code",
   "execution_count": 0,
   "metadata": {
    "colab": {},
    "colab_type": "code",
    "id": "m3PkWfKT6hee"
   },
   "outputs": [],
   "source": [
    "df"
   ]
  },
  {
   "cell_type": "code",
   "execution_count": 0,
   "metadata": {
    "colab": {},
    "colab_type": "code",
    "id": "NxDPad1-yhFT"
   },
   "outputs": [],
   "source": [
    "df.head()"
   ]
  },
  {
   "cell_type": "code",
   "execution_count": 0,
   "metadata": {
    "colab": {},
    "colab_type": "code",
    "id": "Y-tFxGqkyl_B"
   },
   "outputs": [],
   "source": [
    "df.tail(2)"
   ]
  },
  {
   "cell_type": "code",
   "execution_count": 0,
   "metadata": {
    "colab": {},
    "colab_type": "code",
    "id": "S4f-J4YazDLR"
   },
   "outputs": [],
   "source": [
    "df.info()"
   ]
  },
  {
   "cell_type": "code",
   "execution_count": 0,
   "metadata": {
    "colab": {},
    "colab_type": "code",
    "id": "NjwZngpNHZri"
   },
   "outputs": [],
   "source": [
    "df.value_counts()"
   ]
  },
  {
   "cell_type": "code",
   "execution_count": 0,
   "metadata": {
    "colab": {},
    "colab_type": "code",
    "id": "z2ITr0C_7U2t"
   },
   "outputs": [],
   "source": [
    "df.isnull()"
   ]
  },
  {
   "cell_type": "code",
   "execution_count": 0,
   "metadata": {
    "colab": {},
    "colab_type": "code",
    "id": "chK5NVK4zoz3"
   },
   "outputs": [],
   "source": [
    "df.shape"
   ]
  },
  {
   "cell_type": "code",
   "execution_count": 0,
   "metadata": {
    "colab": {},
    "colab_type": "code",
    "id": "dm_3hZgs07fw"
   },
   "outputs": [],
   "source": [
    "te_df=df.append(df)\n",
    "te_df.shape"
   ]
  },
  {
   "cell_type": "code",
   "execution_count": 0,
   "metadata": {
    "colab": {},
    "colab_type": "code",
    "id": "BygWr-m91K60"
   },
   "outputs": [],
   "source": [
    "te_df.head(10)"
   ]
  },
  {
   "cell_type": "code",
   "execution_count": 0,
   "metadata": {
    "colab": {},
    "colab_type": "code",
    "id": "G7uDDFIH1UJ_"
   },
   "outputs": [],
   "source": [
    "te_df=te_df.drop_duplicates()\n",
    "te_df.shape"
   ]
  },
  {
   "cell_type": "code",
   "execution_count": 0,
   "metadata": {
    "colab": {},
    "colab_type": "code",
    "id": "1Hfz4xsB1qmb"
   },
   "outputs": [],
   "source": [
    "te_df=df.append(df)\n",
    "\n",
    "te_df.drop_duplicates(inplace=True,keep=False)\n",
    "te_df.shape"
   ]
  },
  {
   "cell_type": "code",
   "execution_count": 0,
   "metadata": {
    "colab": {},
    "colab_type": "code",
    "id": "SutvVKsS4Urr"
   },
   "outputs": [],
   "source": [
    "te_df.rename(columns={\n",
    "        'land_area': 'L_Ar', \n",
    "        'percent_city': '%_Cy'\n",
    "    }, inplace=True)\n",
    "    \n",
    "te_df.columns"
   ]
  },
  {
   "cell_type": "code",
   "execution_count": 0,
   "metadata": {
    "colab": {},
    "colab_type": "code",
    "id": "cFoEx1tW5kiM"
   },
   "outputs": [],
   "source": [
    "te_df.columns = [col.lower() for col in te_df]\n",
    "te_df.columns"
   ]
  },
  {
   "cell_type": "code",
   "execution_count": 0,
   "metadata": {
    "colab": {},
    "colab_type": "code",
    "id": "7TLWRf1c2-B9"
   },
   "outputs": [],
   "source": [
    "te_df.columns"
   ]
  },
  {
   "cell_type": "code",
   "execution_count": 0,
   "metadata": {
    "colab": {},
    "colab_type": "code",
    "id": "cu0pd2qp8dcD"
   },
   "outputs": [],
   "source": [
    "t1_df=te_df['region']\n",
    "t1_df"
   ]
  },
  {
   "cell_type": "code",
   "execution_count": 0,
   "metadata": {
    "colab": {},
    "colab_type": "code",
    "id": "YX1RmcI489di"
   },
   "outputs": [],
   "source": [
    "t1_df.head()"
   ]
  },
  {
   "cell_type": "code",
   "execution_count": 0,
   "metadata": {
    "colab": {},
    "colab_type": "code",
    "id": "BjcThasM9QYp"
   },
   "outputs": [],
   "source": [
    "t1_df.mean()"
   ]
  },
  {
   "cell_type": "code",
   "execution_count": 0,
   "metadata": {
    "colab": {},
    "colab_type": "code",
    "id": "RS8-2BZO_JR5"
   },
   "outputs": [],
   "source": [
    "df.describe()"
   ]
  },
  {
   "cell_type": "code",
   "execution_count": 0,
   "metadata": {
    "colab": {},
    "colab_type": "code",
    "id": "fMsuUwH-_Ja-"
   },
   "outputs": [],
   "source": [
    "te_df.describe()"
   ]
  },
  {
   "cell_type": "code",
   "execution_count": 0,
   "metadata": {
    "colab": {},
    "colab_type": "code",
    "id": "hdTpZ47A-A55"
   },
   "outputs": [],
   "source": [
    "df['region'].describe()"
   ]
  },
  {
   "cell_type": "code",
   "execution_count": 0,
   "metadata": {
    "colab": {},
    "colab_type": "code",
    "id": "ltNqGlsK-wm-"
   },
   "outputs": [],
   "source": [
    "df['region'].value_counts()"
   ]
  },
  {
   "cell_type": "code",
   "execution_count": 0,
   "metadata": {
    "colab": {},
    "colab_type": "code",
    "id": "J2SfyTtlDDcB"
   },
   "outputs": [],
   "source": [
    "df.corr()"
   ]
  },
  {
   "cell_type": "code",
   "execution_count": 0,
   "metadata": {
    "colab": {},
    "colab_type": "code",
    "id": "2evUbU6VEjJe"
   },
   "outputs": [],
   "source": [
    "sr=df['region']|df['land_area']\n",
    "sr.head()"
   ]
  },
  {
   "cell_type": "code",
   "execution_count": 0,
   "metadata": {
    "colab": {},
    "colab_type": "code",
    "id": "N3R9fnNoF5zP"
   },
   "outputs": [],
   "source": [
    "sr1=te_df.iloc[1:5]\n",
    "sr1"
   ]
  },
  {
   "cell_type": "code",
   "execution_count": 0,
   "metadata": {
    "colab": {},
    "colab_type": "code",
    "id": "MUnaSaIqG44Z"
   },
   "outputs": [],
   "source": [
    "sr1=te_df.loc['land_area':'region']\n",
    "\n",
    "sr1=te_df.iloc[1:98]\n",
    "sr1"
   ]
  },
  {
   "cell_type": "code",
   "execution_count": 0,
   "metadata": {
    "colab": {},
    "colab_type": "code",
    "id": "zIWiK6TbA0eB"
   },
   "outputs": [],
   "source": [
    "df['region'].value_counts().head(5)"
   ]
  },
  {
   "cell_type": "code",
   "execution_count": 0,
   "metadata": {
    "colab": {},
    "colab_type": "code",
    "id": "zfxmuDPdHoJE"
   },
   "outputs": [],
   "source": [
    "cond = (df['region'])|(df['land_area']=='4')\n",
    "cond.head()"
   ]
  },
  {
   "cell_type": "code",
   "execution_count": 0,
   "metadata": {
    "colab": {},
    "colab_type": "code",
    "id": "SwFGZf2CGocK"
   },
   "outputs": [],
   "source": [
    "df[df['region'] == 4].head(5)"
   ]
  },
  {
   "cell_type": "code",
   "execution_count": 0,
   "metadata": {
    "colab": {},
    "colab_type": "code",
    "id": "KNMFO5O_JffW"
   },
   "outputs": [],
   "source": [
    "df"
   ]
  },
  {
   "cell_type": "code",
   "execution_count": 0,
   "metadata": {
    "colab": {},
    "colab_type": "code",
    "id": "qxJFT-tuI_Ao"
   },
   "outputs": [],
   "source": [
    "  df[(df['region'] == 4) | (df['land_area'])].head()"
   ]
  },
  {
   "cell_type": "code",
   "execution_count": 0,
   "metadata": {
    "colab": {},
    "colab_type": "code",
    "id": "58fmakMJKI5c"
   },
   "outputs": [],
   "source": [
    "df[df['land_area'].isin(['region'==4])].quantile()"
   ]
  },
  {
   "cell_type": "code",
   "execution_count": 0,
   "metadata": {
    "colab": {},
    "colab_type": "code",
    "id": "XOFjKcULK7y2"
   },
   "outputs": [],
   "source": [
    "df[ \n",
    "   ((df['land_area'] > 1000) & (df['region'] == 4) \n",
    "   ]"
   ]
  },
  {
   "cell_type": "code",
   "execution_count": 0,
   "metadata": {
    "colab": {},
    "colab_type": "code",
    "id": "37zdu9moMuuM"
   },
   "outputs": [],
   "source": [
    "te_d=df\n",
    "te_d.head()"
   ]
  },
  {
   "cell_type": "code",
   "execution_count": 0,
   "metadata": {
    "colab": {},
    "colab_type": "code",
    "id": "CY9You60M0Ds"
   },
   "outputs": [],
   "source": [
    "def rating_function(x):\n",
    "    if x >= 80.0:\n",
    "        return \"High\"\n",
    "    else:\n",
    "        return \"Low\""
   ]
  },
  {
   "cell_type": "code",
   "execution_count": 0,
   "metadata": {
    "colab": {},
    "colab_type": "code",
    "id": "PvZvAQfpNQaL"
   },
   "outputs": [],
   "source": [
    "te_d[\"region\"] = te_d['crime_rate'].apply(rating_function)\n",
    "te_d.head()"
   ]
  },
  {
   "cell_type": "code",
   "execution_count": 0,
   "metadata": {
    "colab": {},
    "colab_type": "code",
    "id": "tCJmOKuAOV0L"
   },
   "outputs": [],
   "source": [
    "te_d[\"rating_category\"] = te_d[\"crime_rate\"].apply(lambda x: 'good' if x >= 80.0 else 'bad')\n",
    "\n",
    "te_d.head(10)"
   ]
  },
  {
   "cell_type": "code",
   "execution_count": 0,
   "metadata": {
    "colab": {},
    "colab_type": "code",
    "id": "YO0SQylBPX9I"
   },
   "outputs": [],
   "source": [
    "import matplotlib.pyplot as plt\n",
    "plt.rcParams.update({'font.size': 20, 'figure.figsize': (10, 8)}) # set font and plot size to be larger"
   ]
  },
  {
   "cell_type": "code",
   "execution_count": 0,
   "metadata": {
    "colab": {},
    "colab_type": "code",
    "id": "dLN1kpTAQeFf"
   },
   "outputs": [],
   "source": [
    "df['crime_rate'].plot(kind=\"box\");"
   ]
  },
  {
   "cell_type": "code",
   "execution_count": 110,
   "metadata": {
    "colab": {
     "base_uri": "https://localhost:8080/",
     "height": 517
    },
    "colab_type": "code",
    "executionInfo": {
     "elapsed": 2127,
     "status": "ok",
     "timestamp": 1591626512343,
     "user": {
      "displayName": "Nixk Jadhav",
      "photoUrl": "https://lh3.googleusercontent.com/a-/AOh14GiJPtOCjToxBSlUNLqmnMZ9wx1e6oBc9k4QtLOhqA=s64",
      "userId": "14283952143457069323"
     },
     "user_tz": -330
    },
    "id": "4ljcYRepQoOq",
    "outputId": "dac91e17-2f4d-404f-8360-aa80ecad9950"
   },
   "outputs": [
    {
     "data": {
      "image/png": "[encoded data removed]",
      "text/plain": [
       "<Figure size 720x576 with 1 Axes>"
      ]
     },
     "metadata": {
      "needs_background": "light",
      "tags": []
     },
     "output_type": "display_data"
    }
   ],
   "source": [
    "df['land_area'].plot(kind='hist', title='Rating');"
   ]
  },
  {
   "cell_type": "markdown",
   "metadata": {
    "colab_type": "text",
    "id": "3u2psBsxVQPB"
   },
   "source": []
  },
  {
   "cell_type": "code",
   "execution_count": 0,
   "metadata": {
    "colab": {},
    "colab_type": "code",
    "id": "OLushIxjQvGA"
   },
   "outputs": [],
   "source": [
    "df.plot(kind='scatter', x='region', y='land_area', title='Revenue (millions) vs Rating');\n"
   ]
  },
  {
   "cell_type": "code",
   "execution_count": 0,
   "metadata": {
    "colab": {},
    "colab_type": "code",
    "id": "pcythZqfR0_n"
   },
   "outputs": [],
   "source": [
    "df.plot(kind='line',x='land_area',y='crime_rate')\n"
   ]
  },
  {
   "cell_type": "code",
   "execution_count": 0,
   "metadata": {
    "colab": {},
    "colab_type": "code",
    "id": "NuL5n0EuUza6"
   },
   "outputs": [],
   "source": [
    "df.head(2)"
   ]
  },
  {
   "cell_type": "code",
   "execution_count": 0,
   "metadata": {
    "colab": {},
    "colab_type": "code",
    "id": "oojg4DILT12R"
   },
   "outputs": [],
   "source": [
    "axes = df.plot.bar(rot=8, subplots=True)\n"
   ]
  }
 ],
 "metadata": {
  "colab": {
   "authorship_tag": "ABX9TyPrTeApr7gMu2CZj7ySXN1K",
   "collapsed_sections": [],
   "name": "Pt1.ipynb",
   "provenance": []
  },
  "kernelspec": {
   "display_name": "Python 3",
   "language": "python",
   "name": "python3"
  },
  "language_info": {
   "codemirror_mode": {
    "name": "ipython",
    "version": 3
   },
   "file_extension": ".py",
   "mimetype": "text/x-python",
   "name": "python",
   "nbconvert_exporter": "python",
   "pygments_lexer": "ipython3",
   "version": "3.6.4"
  }
 },
 "nbformat": 4,
 "nbformat_minor": 1
}
