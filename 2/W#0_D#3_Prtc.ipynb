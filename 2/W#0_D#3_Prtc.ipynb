{
 "cells": [
  {
   "cell_type": "markdown",
   "metadata": {
    "colab_type": "text",
    "id": "Jx5P-0bZvMWf"
   },
   "source": [
    "## Solutions of Week 0 Day 3 Practice Questions\n",
    "##### We thank our coaches for coming up with this. \n",
    "##### **Contributors:** Sanyam Dhawan, Utkarsh, Aishwarya Yadav, Avi Tomar, Julian Marinda, Manish KC, Gunnika Batra\n",
    "\n",
    "\n"
   ]
  },
  {
   "cell_type": "markdown",
   "metadata": {
    "colab_type": "text",
    "id": "bDpnogBWiPbi"
   },
   "source": [
    "1 : Take values of length and breadth of a rectangle from user and check if it is square or not."
   ]
  },
  {
   "cell_type": "code",
   "execution_count": 0,
   "metadata": {
    "colab": {},
    "colab_type": "code",
    "id": "bDkx7I8AvMWi",
    "outputId": "f5b695e9-9851-4838-9f7c-d9ddc954dbc9"
   },
   "outputs": [
    {
     "name": "stdout",
     "output_type": "stream",
     "text": [
      "Enter the length: 3\n",
      "Enter the breadth: 4\n",
      "It is not a square.\n"
     ]
    }
   ],
   "source": [
    "length=int(input(\"Enter the length: \"))\n",
    "breadth=int(input(\"Enter the breadth: \"))\n",
    "\n",
    "if length==breadth:   # Check if length and breadth are equal\n",
    "    print(\"It is a square.\")\n",
    "else:\n",
    "    print(\"It is not a square.\")"
   ]
  },
  {
   "cell_type": "markdown",
   "metadata": {
    "colab_type": "text",
    "id": "QlzbENFQvMWs"
   },
   "source": [
    "2. Take two int values from user and print greatest among them"
   ]
  },
  {
   "cell_type": "code",
   "execution_count": 0,
   "metadata": {
    "colab": {},
    "colab_type": "code",
    "id": "aMoA5lStvMWt",
    "outputId": "174e7508-08a7-4129-811f-1b39e0cff3b6"
   },
   "outputs": [
    {
     "name": "stdout",
     "output_type": "stream",
     "text": [
      "Enter the first number: 4\n",
      "Enter the second number: 1\n",
      "Greater number is  4\n"
     ]
    }
   ],
   "source": [
    "number1=int(input(\"Enter the first number: \"))\n",
    "number2=int(input(\"Enter the second number: \"))\n",
    "\n",
    "if number1>number2:  # Find the larger number using > operator\n",
    "    print(\"Greater number is \",number1)\n",
    "else:\n",
    "    print(\"Greater number is \",number2)"
   ]
  },
  {
   "cell_type": "markdown",
   "metadata": {
    "colab_type": "text",
    "id": "nIWwdD6svMWx"
   },
   "source": [
    "3. Write a program to read the age of a candidate and determine whether it is eligible for casting his/her own vote."
   ]
  },
  {
   "cell_type": "code",
   "execution_count": 0,
   "metadata": {
    "colab": {},
    "colab_type": "code",
    "id": "jPqkh3cevMWy",
    "outputId": "c8a0ef5f-2169-4175-86bf-1c07d7672901"
   },
   "outputs": [
    {
     "name": "stdout",
     "output_type": "stream",
     "text": [
      "Enter your age: 33\n",
      "Eligible to vote\n"
     ]
    }
   ],
   "source": [
    "age=int(input(\"Enter your age: \"))\n",
    "if age>=18:   # Candidates with age 18 and above are eligible to vote in India\n",
    "    print(\"Eligible to vote\")\n",
    "else:\n",
    "    print(\"Not eligible to vote\")"
   ]
  },
  {
   "cell_type": "markdown",
   "metadata": {
    "colab_type": "text",
    "id": "DghfFh6dvMW3"
   },
   "source": [
    "4. Write a Python program to add a key to a dictionary. \n",
    "Sample Dictionary : {0: 10, 1: 20}\n",
    "Expected Result : {0: 10, 1: 20, 2: 30}\n"
   ]
  },
  {
   "cell_type": "code",
   "execution_count": 0,
   "metadata": {
    "colab": {},
    "colab_type": "code",
    "id": "K3iRO98MvMW4",
    "outputId": "3f5823b5-e4de-4b03-987c-571132bc6661"
   },
   "outputs": [
    {
     "name": "stdout",
     "output_type": "stream",
     "text": [
      "Sample dictionary {0: 10, 1: 20}\n",
      "Sample dictionary after adding new key pair {0: 10, 1: 20, 2: 30}\n"
     ]
    }
   ],
   "source": [
    "sample_dictionary={0:10,\n",
    "                   1:20}\n",
    "\n",
    "print(\"Sample dictionary\",sample_dictionary)\n",
    "\n",
    "sample_dictionary[2]=30  #Setting the key 2 with value 30\n",
    "print(\"Sample dictionary after adding new key pair\",sample_dictionary)"
   ]
  },
  {
   "cell_type": "markdown",
   "metadata": {
    "colab_type": "text",
    "id": "j8XAAWE3vMW9"
   },
   "source": [
    "5. Below are the two lists, convert it into a dictionary.\n",
    "\n",
    "keys = ['Ten', 'Twenty', 'Thirty']\n",
    "\n",
    "values = [10, 20, 30]\n",
    "\n",
    "Expected output:\n",
    "{'Ten': 10, 'Twenty': 20, 'Thirty': 30}\n"
   ]
  },
  {
   "cell_type": "code",
   "execution_count": 0,
   "metadata": {
    "colab": {
     "base_uri": "https://localhost:8080/",
     "height": 34
    },
    "colab_type": "code",
    "executionInfo": {
     "elapsed": 1984,
     "status": "ok",
     "timestamp": 1590553606170,
     "user": {
      "displayName": "MANISH K C",
      "photoUrl": "https://lh3.googleusercontent.com/a-/AOh14GiIsRSBYK9Tz7-DVHI2lbsmwM3ouYPXomwNoeYgXw=s64",
      "userId": "06594214124721445123"
     },
     "user_tz": -330
    },
    "id": "m81F5Qu4Xo8g",
    "outputId": "adbb3470-b9dc-4de5-8ef4-5426011b3947"
   },
   "outputs": [
    {
     "name": "stdout",
     "output_type": "stream",
     "text": [
      "{'Ten': 10, 'Twenty': 20, 'Thirty': 30}\n"
     ]
    }
   ],
   "source": [
    "# Naive approach\n",
    "# Using loops\n",
    "\n",
    "keys = ['Ten', 'Twenty', 'Thirty'] \n",
    "values = [10, 20, 30]\n",
    "\n",
    "# Initialize an empty dictionary\n",
    "dict_ = {}   # a dictionary can also be initialized using dict() function as dict_ = dict()\n",
    "\n",
    "for i in range(len(keys)):\n",
    "  dict_[keys[i]] = values[i]\n",
    "\n",
    "print(dict_)"
   ]
  },
  {
   "cell_type": "code",
   "execution_count": 0,
   "metadata": {
    "colab": {},
    "colab_type": "code",
    "id": "00YPjDahvMW_",
    "outputId": "60222bed-1860-4158-dd5a-0f1a97aa5300"
   },
   "outputs": [
    {
     "name": "stdout",
     "output_type": "stream",
     "text": [
      "{'Ten': 10, 'Twenty': 20, 'Thirty': 30}\n"
     ]
    }
   ],
   "source": [
    "# Using zip() function\n",
    "keys = ['Ten', 'Twenty', 'Thirty'] \n",
    "values = [10, 20, 30]\n",
    "dict_=dict(zip(keys,values)) #use zip function to combine the two lists into one. \n",
    "                             #Finally, convert the zipped object into dictionary\n",
    "print(dict_)"
   ]
  },
  {
   "cell_type": "markdown",
   "metadata": {
    "colab_type": "text",
    "id": "y1ioJnKdvMXE"
   },
   "source": [
    "6. Access the value of key ‘history’\n",
    "\n",
    "sampleDict = { \n",
    "\n",
    "\"class\":{ \n",
    "      \"student\":{ \n",
    "         \"name\":\"Mike\",\n",
    "         \"marks\":{ \n",
    "            \"physics\":70,\n",
    "            \"history\":80\n",
    "         }\n",
    "      }\n",
    "   }\n",
    "}\n",
    "\n",
    "Expected output:\n",
    "80\n"
   ]
  },
  {
   "cell_type": "code",
   "execution_count": 2,
   "metadata": {
    "colab": {
     "base_uri": "https://localhost:8080/",
     "height": 34
    },
    "colab_type": "code",
    "executionInfo": {
     "elapsed": 2245,
     "status": "ok",
     "timestamp": 1590844306599,
     "user": {
      "displayName": "Nixk Jadhav",
      "photoUrl": "https://lh3.googleusercontent.com/a-/AOh14GiJPtOCjToxBSlUNLqmnMZ9wx1e6oBc9k4QtLOhqA=s64",
      "userId": "14283952143457069323"
     },
     "user_tz": -330
    },
    "id": "5FxcgktNvMXF",
    "outputId": "09339ad1-a46a-42a0-f38e-21038fa7393f"
   },
   "outputs": [
    {
     "name": "stdout",
     "output_type": "stream",
     "text": [
      "80\n"
     ]
    }
   ],
   "source": [
    "sampleDict = { \n",
    "    \"class\":{ \n",
    "      \"student\":{ \n",
    "         \"name\":\"Mike\",\n",
    "         \"marks\":{ \n",
    "            \"physics\":70,\n",
    "            \"history\":80\n",
    "         }\n",
    "      }\n",
    "   }\n",
    "}\n",
    "print(sampleDict['class']['student']['marks']['history']) #going into the layers of the dictionary one by one.\n",
    "# First, sampleDict contains only one key - class. \n",
    "# We'll access the value of the class key by sampleDict['class']\n",
    "\n",
    "# The value of class key is itself a dictionary with only student as the key. \n",
    "# We'll access value of student key by sampleDict['class']['student']\n",
    "\n",
    "# Again, the value of student key is itself a dictionary with name and marks as the key. \n",
    "# Since history is a key inside the marks dictionary, we'll access it by sampleDict['class']['student']['marks']\n",
    "\n",
    "# Finally, to get the value of the history key, we'll do sampleDict['class']['student']['marks']['history'] \n",
    "# and print the required output"
   ]
  },
  {
   "cell_type": "markdown",
   "metadata": {
    "colab_type": "text",
    "id": "HbogZ2UMvMXL"
   },
   "source": [
    "7. Given the following dictionary:\n",
    "\n",
    "inventory = {\n",
    "  \t'gold' : 500,\n",
    "   \t'pouch' : ['flint', 'twine', 'gemstone'],\n",
    "   \t'backpack' : ['xylophone','dagger', 'bedroll','bread loaf']\n",
    "}\n",
    "\n",
    "\n",
    "Try to do the following:\n",
    "\n",
    "1. Add a key to inventory called 'pocket'.\n",
    "\n",
    "2. Set the value of 'pocket' to be a list consisting of the strings 'seashell', 'strange berry', and 'lint'. \n",
    "\n",
    "3. .sort()the items in the list stored under the 'backpack' key.\n",
    "\n",
    "4. Then .remove('dagger') from the list of items stored under the 'backpack' key.\n",
    "\n",
    "5. Add 50 to the number stored under the 'gold' key.\n"
   ]
  },
  {
   "cell_type": "code",
   "execution_count": 0,
   "metadata": {
    "colab": {},
    "colab_type": "code",
    "id": "f85RRgEsvMXL",
    "outputId": "efaca7d6-f2bc-474d-90e2-0e6a50420216"
   },
   "outputs": [
    {
     "data": {
      "text/plain": [
       "{'gold': 500,\n",
       " 'pouch': ['flint', 'twine', 'gemstone'],\n",
       " 'backpack': ['xylophone', 'dagger', 'bedroll', 'bread loaf'],\n",
       " 'pocket': ['seashell', 'strange berry', 'lint']}"
      ]
     },
     "execution_count": 11,
     "metadata": {
      "tags": []
     },
     "output_type": "execute_result"
    }
   ],
   "source": [
    "inventory = {\n",
    "    'gold' : 500,\n",
    "    'pouch' : ['flint', 'twine', 'gemstone'],\n",
    "    'backpack' : ['xylophone','dagger', 'bedroll','bread loaf']\n",
    "}\n",
    "\n",
    "#Task 1 and 2\n",
    "inventory['pocket']=[ 'seashell', 'strange berry','lint']  \n",
    "# added a new key to the dictionary and assigned its value as a list\n",
    "\n",
    "inventory"
   ]
  },
  {
   "cell_type": "code",
   "execution_count": 0,
   "metadata": {
    "colab": {},
    "colab_type": "code",
    "id": "t-wUQSzAvMXO",
    "outputId": "36fe16f5-67e7-4b87-dbf9-2cd8338bf6b2"
   },
   "outputs": [
    {
     "data": {
      "text/plain": [
       "{'gold': 500,\n",
       " 'pouch': ['flint', 'twine', 'gemstone'],\n",
       " 'backpack': ['bedroll', 'bread loaf', 'dagger', 'xylophone'],\n",
       " 'pocket': ['seashell', 'strange berry', 'lint']}"
      ]
     },
     "execution_count": 12,
     "metadata": {
      "tags": []
     },
     "output_type": "execute_result"
    }
   ],
   "source": [
    "#Task 3\n",
    "inventory['backpack'].sort()  #using sort function to sort the values in ascending order\n",
    "\n",
    "inventory"
   ]
  },
  {
   "cell_type": "code",
   "execution_count": 0,
   "metadata": {
    "colab": {},
    "colab_type": "code",
    "id": "emnpwRCKvMXQ",
    "outputId": "b97a7185-755e-419f-d93f-fd46b05e3933"
   },
   "outputs": [
    {
     "data": {
      "text/plain": [
       "{'gold': 500,\n",
       " 'pouch': ['flint', 'twine', 'gemstone'],\n",
       " 'backpack': ['bedroll', 'bread loaf', 'xylophone'],\n",
       " 'pocket': ['seashell', 'strange berry', 'lint']}"
      ]
     },
     "execution_count": 13,
     "metadata": {
      "tags": []
     },
     "output_type": "execute_result"
    }
   ],
   "source": [
    "#Task 4\n",
    "inventory['backpack'].remove('dagger')  #first, accessed the value of the backpack key which is a list.\n",
    "# using the remove function, removed the value dagger from the list\n",
    "\n",
    "inventory"
   ]
  },
  {
   "cell_type": "code",
   "execution_count": 1,
   "metadata": {
    "colab": {
     "base_uri": "https://localhost:8080/",
     "height": 238
    },
    "colab_type": "code",
    "executionInfo": {
     "elapsed": 3140,
     "status": "error",
     "timestamp": 1590844304524,
     "user": {
      "displayName": "Nixk Jadhav",
      "photoUrl": "https://lh3.googleusercontent.com/a-/AOh14GiJPtOCjToxBSlUNLqmnMZ9wx1e6oBc9k4QtLOhqA=s64",
      "userId": "14283952143457069323"
     },
     "user_tz": -330
    },
    "id": "b4FYFhSCvMXT",
    "outputId": "2d71025f-cb23-4438-c0b6-46da7053bfd1"
   },
   "outputs": [
    {
     "ename": "NameError",
     "evalue": "ignored",
     "output_type": "error",
     "traceback": [
      "\u001b[0;31m---------------------------------------------------------------------------\u001b[0m",
      "\u001b[0;31mNameError\u001b[0m                                 Traceback (most recent call last)",
      "\u001b[0;32m<ipython-input-1-5458e245f381>\u001b[0m in \u001b[0;36m<module>\u001b[0;34m()\u001b[0m\n\u001b[1;32m      1\u001b[0m \u001b[0;31m#Task 5\u001b[0m\u001b[0;34m\u001b[0m\u001b[0;34m\u001b[0m\u001b[0;34m\u001b[0m\u001b[0m\n\u001b[0;32m----> 2\u001b[0;31m \u001b[0minventory\u001b[0m\u001b[0;34m[\u001b[0m\u001b[0;34m'gold'\u001b[0m\u001b[0;34m]\u001b[0m\u001b[0;34m=\u001b[0m\u001b[0minventory\u001b[0m\u001b[0;34m[\u001b[0m\u001b[0;34m'gold'\u001b[0m\u001b[0;34m]\u001b[0m\u001b[0;34m+\u001b[0m\u001b[0;36m50\u001b[0m  \u001b[0;31m#accessed the value of gold key, added 50 to it\u001b[0m\u001b[0;34m\u001b[0m\u001b[0;34m\u001b[0m\u001b[0m\n\u001b[0m\u001b[1;32m      3\u001b[0m \u001b[0;31m# and stored it back into the same key\u001b[0m\u001b[0;34m\u001b[0m\u001b[0;34m\u001b[0m\u001b[0;34m\u001b[0m\u001b[0m\n\u001b[1;32m      4\u001b[0m \u001b[0;34m\u001b[0m\u001b[0m\n\u001b[1;32m      5\u001b[0m \u001b[0minventory\u001b[0m\u001b[0;34m\u001b[0m\u001b[0;34m\u001b[0m\u001b[0m\n",
      "\u001b[0;31mNameError\u001b[0m: name 'inventory' is not defined"
     ]
    }
   ],
   "source": [
    "#Task 5\n",
    "inventory['gold']=inventory['gold']+50  #accessed the value of gold key, added 50 to it \n",
    "# and stored it back into the same key\n",
    "\n",
    "inventory"
   ]
  },
  {
   "cell_type": "code",
   "execution_count": 0,
   "metadata": {
    "colab": {},
    "colab_type": "code",
    "id": "uxzVST2bvMXW"
   },
   "outputs": [],
   "source": []
  }
 ],
 "metadata": {
  "colab": {
   "collapsed_sections": [],
   "name": "Week#0_Day#3.ipynb",
   "provenance": []
  },
  "kernelspec": {
   "display_name": "Python 3",
   "language": "python",
   "name": "python3"
  },
  "language_info": {
   "codemirror_mode": {
    "name": "ipython",
    "version": 3
   },
   "file_extension": ".py",
   "mimetype": "text/x-python",
   "name": "python",
   "nbconvert_exporter": "python",
   "pygments_lexer": "ipython3",
   "version": "3.6.4"
  }
 },
 "nbformat": 4,
 "nbformat_minor": 1
}
