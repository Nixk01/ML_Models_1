{
 "cells": [
  {
   "cell_type": "markdown",
   "metadata": {
    "colab_type": "text",
    "id": "eQIoIMz-DFyM"
   },
   "source": [
    "# Help Video"
   ]
  },
  {
   "cell_type": "code",
   "execution_count": null,
   "metadata": {
    "colab": {},
    "colab_type": "code",
    "id": "f8PkZgd-DKNG"
   },
   "outputs": [],
   "source": [
    "Video link: https://www.youtube.com/watch?v=XC3ZxHq5s9I&feature=youtu.be"
   ]
  },
  {
   "cell_type": "markdown",
   "metadata": {
    "colab_type": "text",
    "id": "0oc-8sFccIHv"
   },
   "source": [
    "## Prediction on new Test Data"
   ]
  },
  {
   "cell_type": "code",
   "execution_count": null,
   "metadata": {
    "colab": {},
    "colab_type": "code",
    "id": "kifWIjZor0uT"
   },
   "outputs": [],
   "source": [
    "Predictions is not obvious as it is mentioned below always, you must do a pre-processing on your test_new data"
   ]
  },
  {
   "cell_type": "code",
   "execution_count": null,
   "metadata": {
    "colab": {},
    "colab_type": "code",
    "id": "F8HmIW2kb8er"
   },
   "outputs": [],
   "source": [
    "predictions = model.predict(test_new) #obviously it is not that simple, you must do a pre-processing on your test_new data"
   ]
  },
  {
   "cell_type": "markdown",
   "metadata": {
    "colab_type": "text",
    "id": "GvSTtB9QOYB-"
   },
   "source": [
    "## How to save prediciton results locally via jupyter notebook?\n",
    "If you are working on Jupyter notebook, execute below block of codes. A file named 'prediction_results.csv' will be created in your current working directory."
   ]
  },
  {
   "cell_type": "code",
   "execution_count": null,
   "metadata": {
    "colab": {},
    "colab_type": "code",
    "id": "JsNJ6MpiD1Xk"
   },
   "outputs": [],
   "source": [
    "res = pd.DataFrame(predictions) #preditcions are nothing but the final predictions of your model on input features of your new unseen test data\n",
    "res.index = test_new.index # its important for comparison. Here \"test_new\" is your new test dataset\n",
    "res.columns = [\"prediction\"]\n",
    "res.to_csv(\"prediction_results_HP.csv\")      # the csv file will be saved locally on the same location where this notebook is located."
   ]
  },
  {
   "cell_type": "markdown",
   "metadata": {
    "colab_type": "text",
    "id": "c-ZMA96qOh71"
   },
   "source": [
    "## How to save prediction results locally via colab notebook?\n",
    "If you are working on Google Colab Notebook, execute below block of codes. A file named 'prediction_results' will be downloaded in your system."
   ]
  },
  {
   "cell_type": "code",
   "execution_count": null,
   "metadata": {
    "colab": {},
    "colab_type": "code",
    "id": "eaemhFf_OrHO"
   },
   "outputs": [],
   "source": [
    "# To create Dataframe of predicted value with particular respective index\n",
    "res = pd.DataFrame(predictions) #preditcions are nothing but the final predictions of your model on input features of your new unseen test data\n",
    "res.index = test_new.index # its important for comparison. Here \"test_new\" is your new test dataset\n",
    "res.columns = [\"prediction\"]\n",
    "\n",
    "# To download the csv file locally\n",
    "from google.colab import files\n",
    "res.to_csv('prediction_results_HP.csv')         \n",
    "files.download('prediction_results_HP.csv')\n",
    "\n"
   ]
  }
 ],
 "metadata": {
  "colab": {
   "collapsed_sections": [],
   "name": "Copy of Saving prediction file.ipynb",
   "provenance": [
    {
     "file_id": "1E5hL-J0-SaFkSHpsmB1UaIbCyned0yu0",
     "timestamp": 1594390750583
    },
    {
     "file_id": "1fNzVEbZj5j0_ftqjcQ2hLQvGPYfhsK9V",
     "timestamp": 1592505617246
    }
   ]
  },
  "kernelspec": {
   "display_name": "Python 3",
   "language": "python",
   "name": "python3"
  },
  "language_info": {
   "codemirror_mode": {
    "name": "ipython",
    "version": 3
   },
   "file_extension": ".py",
   "mimetype": "text/x-python",
   "name": "python",
   "nbconvert_exporter": "python",
   "pygments_lexer": "ipython3",
   "version": "3.6.4"
  }
 },
 "nbformat": 4,
 "nbformat_minor": 1
}
