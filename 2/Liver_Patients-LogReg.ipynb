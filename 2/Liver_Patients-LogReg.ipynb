{
 "cells": [
  {
   "cell_type": "code",
   "execution_count": 1,
   "metadata": {
    "colab": {},
    "colab_type": "code",
    "executionInfo": {
     "elapsed": 4114,
     "status": "ok",
     "timestamp": 1594396900524,
     "user": {
      "displayName": "RITIK DHEDIA",
      "photoUrl": "https://lh3.googleusercontent.com/a-/AOh14GjcQtHPSQc_W_fzTamID-rBWhxcimsw3eSVnRY2=s64",
      "userId": "01296339820944128981"
     },
     "user_tz": -330
    },
    "id": "PdHDCyTytqLT"
   },
   "outputs": [],
   "source": [
    "import pandas as pd\n",
    "import numpy as np\n",
    "from sklearn.model_selection import train_test_split\n",
    "from sklearn.linear_model import LogisticRegression\n",
    "from sklearn.preprocessing import LabelEncoder\n",
    "import warnings\n",
    "warnings.filterwarnings(\"ignore\")"
   ]
  },
  {
   "cell_type": "code",
   "execution_count": 2,
   "metadata": {
    "colab": {},
    "colab_type": "code",
    "executionInfo": {
     "elapsed": 4103,
     "status": "ok",
     "timestamp": 1594396900526,
     "user": {
      "displayName": "RITIK DHEDIA",
      "photoUrl": "https://lh3.googleusercontent.com/a-/AOh14GjcQtHPSQc_W_fzTamID-rBWhxcimsw3eSVnRY2=s64",
      "userId": "01296339820944128981"
     },
     "user_tz": -330
    },
    "id": "xR93yHtCtqLk"
   },
   "outputs": [],
   "source": [
    "liver_data = pd.read_csv('https://raw.githubusercontent.com/dphi-official/Datasets/master/liver_patient_data/indian_liver_patient_dataset.csv')"
   ]
  },
  {
   "cell_type": "code",
   "execution_count": 3,
   "metadata": {
    "colab": {
     "base_uri": "https://localhost:8080/",
     "height": 330
    },
    "colab_type": "code",
    "executionInfo": {
     "elapsed": 4096,
     "status": "ok",
     "timestamp": 1594396900528,
     "user": {
      "displayName": "RITIK DHEDIA",
      "photoUrl": "https://lh3.googleusercontent.com/a-/AOh14GjcQtHPSQc_W_fzTamID-rBWhxcimsw3eSVnRY2=s64",
      "userId": "01296339820944128981"
     },
     "user_tz": -330
    },
    "id": "HMWTvG5FtqL1",
    "outputId": "91e193b5-c471-4c62-8bb9-eb3f25332933"
   },
   "outputs": [
    {
     "name": "stdout",
     "output_type": "stream",
     "text": [
      "<class 'pandas.core.frame.DataFrame'>\n",
      "RangeIndex: 500 entries, 0 to 499\n",
      "Data columns (total 11 columns):\n",
      " #   Column                      Non-Null Count  Dtype  \n",
      "---  ------                      --------------  -----  \n",
      " 0   Age                         500 non-null    int64  \n",
      " 1   Gender                      500 non-null    object \n",
      " 2   Total_Bilirubin             500 non-null    float64\n",
      " 3   Direct_Bilirubin            500 non-null    float64\n",
      " 4   Alkaline_Phosphotase        500 non-null    int64  \n",
      " 5   Alamine_Aminotransferase    500 non-null    int64  \n",
      " 6   Aspartate_Aminotransferase  500 non-null    int64  \n",
      " 7   Total_Protiens              500 non-null    float64\n",
      " 8   Albumin                     500 non-null    float64\n",
      " 9   Albumin_and_Globulin_Ratio  496 non-null    float64\n",
      " 10  Liver_Problem               500 non-null    int64  \n",
      "dtypes: float64(5), int64(5), object(1)\n",
      "memory usage: 43.1+ KB\n"
     ]
    }
   ],
   "source": [
    "liver_data.info()"
   ]
  },
  {
   "cell_type": "code",
   "execution_count": 4,
   "metadata": {
    "colab": {
     "base_uri": "https://localhost:8080/",
     "height": 34
    },
    "colab_type": "code",
    "executionInfo": {
     "elapsed": 4090,
     "status": "ok",
     "timestamp": 1594396900530,
     "user": {
      "displayName": "RITIK DHEDIA",
      "photoUrl": "https://lh3.googleusercontent.com/a-/AOh14GjcQtHPSQc_W_fzTamID-rBWhxcimsw3eSVnRY2=s64",
      "userId": "01296339820944128981"
     },
     "user_tz": -330
    },
    "id": "Ye-u8Ln2tqME",
    "outputId": "79c9d55a-724f-495b-c4f9-ca197b15287d",
    "scrolled": false
   },
   "outputs": [
    {
     "data": {
      "text/plain": [
       "(500, 11)"
      ]
     },
     "execution_count": 4,
     "metadata": {
      "tags": []
     },
     "output_type": "execute_result"
    }
   ],
   "source": [
    "liver_data.shape"
   ]
  },
  {
   "cell_type": "code",
   "execution_count": 5,
   "metadata": {
    "colab": {
     "base_uri": "https://localhost:8080/",
     "height": 206
    },
    "colab_type": "code",
    "executionInfo": {
     "elapsed": 4069,
     "status": "ok",
     "timestamp": 1594396900533,
     "user": {
      "displayName": "RITIK DHEDIA",
      "photoUrl": "https://lh3.googleusercontent.com/a-/AOh14GjcQtHPSQc_W_fzTamID-rBWhxcimsw3eSVnRY2=s64",
      "userId": "01296339820944128981"
     },
     "user_tz": -330
    },
    "id": "YiDO2qwltqMP",
    "outputId": "05f0b387-8083-40f6-8192-dc405b903a79",
    "scrolled": true
   },
   "outputs": [
    {
     "data": {
      "text/html": [
       "<div>\n",
       "<style scoped>\n",
       "    .dataframe tbody tr th:only-of-type {\n",
       "        vertical-align: middle;\n",
       "    }\n",
       "\n",
       "    .dataframe tbody tr th {\n",
       "        vertical-align: top;\n",
       "    }\n",
       "\n",
       "    .dataframe thead th {\n",
       "        text-align: right;\n",
       "    }\n",
       "</style>\n",
       "<table border=\"1\" class=\"dataframe\">\n",
       "  <thead>\n",
       "    <tr style=\"text-align: right;\">\n",
       "      <th></th>\n",
       "      <th>Age</th>\n",
       "      <th>Gender</th>\n",
       "      <th>Total_Bilirubin</th>\n",
       "      <th>Direct_Bilirubin</th>\n",
       "      <th>Alkaline_Phosphotase</th>\n",
       "      <th>Alamine_Aminotransferase</th>\n",
       "      <th>Aspartate_Aminotransferase</th>\n",
       "      <th>Total_Protiens</th>\n",
       "      <th>Albumin</th>\n",
       "      <th>Albumin_and_Globulin_Ratio</th>\n",
       "      <th>Liver_Problem</th>\n",
       "    </tr>\n",
       "  </thead>\n",
       "  <tbody>\n",
       "    <tr>\n",
       "      <th>0</th>\n",
       "      <td>65</td>\n",
       "      <td>Female</td>\n",
       "      <td>0.7</td>\n",
       "      <td>0.1</td>\n",
       "      <td>187</td>\n",
       "      <td>16</td>\n",
       "      <td>18</td>\n",
       "      <td>6.8</td>\n",
       "      <td>3.3</td>\n",
       "      <td>0.90</td>\n",
       "      <td>1</td>\n",
       "    </tr>\n",
       "    <tr>\n",
       "      <th>1</th>\n",
       "      <td>62</td>\n",
       "      <td>Male</td>\n",
       "      <td>10.9</td>\n",
       "      <td>5.5</td>\n",
       "      <td>699</td>\n",
       "      <td>64</td>\n",
       "      <td>100</td>\n",
       "      <td>7.5</td>\n",
       "      <td>3.2</td>\n",
       "      <td>0.74</td>\n",
       "      <td>1</td>\n",
       "    </tr>\n",
       "    <tr>\n",
       "      <th>2</th>\n",
       "      <td>62</td>\n",
       "      <td>Male</td>\n",
       "      <td>7.3</td>\n",
       "      <td>4.1</td>\n",
       "      <td>490</td>\n",
       "      <td>60</td>\n",
       "      <td>68</td>\n",
       "      <td>7.0</td>\n",
       "      <td>3.3</td>\n",
       "      <td>0.89</td>\n",
       "      <td>1</td>\n",
       "    </tr>\n",
       "    <tr>\n",
       "      <th>3</th>\n",
       "      <td>58</td>\n",
       "      <td>Male</td>\n",
       "      <td>1.0</td>\n",
       "      <td>0.4</td>\n",
       "      <td>182</td>\n",
       "      <td>14</td>\n",
       "      <td>20</td>\n",
       "      <td>6.8</td>\n",
       "      <td>3.4</td>\n",
       "      <td>1.00</td>\n",
       "      <td>1</td>\n",
       "    </tr>\n",
       "    <tr>\n",
       "      <th>4</th>\n",
       "      <td>72</td>\n",
       "      <td>Male</td>\n",
       "      <td>3.9</td>\n",
       "      <td>2.0</td>\n",
       "      <td>195</td>\n",
       "      <td>27</td>\n",
       "      <td>59</td>\n",
       "      <td>7.3</td>\n",
       "      <td>2.4</td>\n",
       "      <td>0.40</td>\n",
       "      <td>1</td>\n",
       "    </tr>\n",
       "  </tbody>\n",
       "</table>\n",
       "</div>"
      ],
      "text/plain": [
       "   Age  Gender  ...  Albumin_and_Globulin_Ratio  Liver_Problem\n",
       "0   65  Female  ...                        0.90              1\n",
       "1   62    Male  ...                        0.74              1\n",
       "2   62    Male  ...                        0.89              1\n",
       "3   58    Male  ...                        1.00              1\n",
       "4   72    Male  ...                        0.40              1\n",
       "\n",
       "[5 rows x 11 columns]"
      ]
     },
     "execution_count": 5,
     "metadata": {
      "tags": []
     },
     "output_type": "execute_result"
    }
   ],
   "source": [
    "liver_data.head()"
   ]
  },
  {
   "cell_type": "code",
   "execution_count": 6,
   "metadata": {
    "colab": {
     "base_uri": "https://localhost:8080/",
     "height": 69
    },
    "colab_type": "code",
    "executionInfo": {
     "elapsed": 4060,
     "status": "ok",
     "timestamp": 1594396900535,
     "user": {
      "displayName": "RITIK DHEDIA",
      "photoUrl": "https://lh3.googleusercontent.com/a-/AOh14GjcQtHPSQc_W_fzTamID-rBWhxcimsw3eSVnRY2=s64",
      "userId": "01296339820944128981"
     },
     "user_tz": -330
    },
    "id": "9DDnolqKtqMY",
    "outputId": "10522bcf-6791-4ad6-c563-cb020fc7c61f"
   },
   "outputs": [
    {
     "data": {
      "text/plain": [
       "1    350\n",
       "2    150\n",
       "Name: Liver_Problem, dtype: int64"
      ]
     },
     "execution_count": 6,
     "metadata": {
      "tags": []
     },
     "output_type": "execute_result"
    }
   ],
   "source": [
    "liver_data['Liver_Problem'].value_counts()# Male vs Female"
   ]
  },
  {
   "cell_type": "code",
   "execution_count": 7,
   "metadata": {
    "colab": {
     "base_uri": "https://localhost:8080/",
     "height": 175
    },
    "colab_type": "code",
    "executionInfo": {
     "elapsed": 4044,
     "status": "ok",
     "timestamp": 1594396900536,
     "user": {
      "displayName": "RITIK DHEDIA",
      "photoUrl": "https://lh3.googleusercontent.com/a-/AOh14GjcQtHPSQc_W_fzTamID-rBWhxcimsw3eSVnRY2=s64",
      "userId": "01296339820944128981"
     },
     "user_tz": -330
    },
    "id": "o9hUkifStqMz",
    "outputId": "010c8c0a-672f-475b-d715-cd4ce9bb915b"
   },
   "outputs": [
    {
     "data": {
      "text/html": [
       "<div>\n",
       "<style scoped>\n",
       "    .dataframe tbody tr th:only-of-type {\n",
       "        vertical-align: middle;\n",
       "    }\n",
       "\n",
       "    .dataframe tbody tr th {\n",
       "        vertical-align: top;\n",
       "    }\n",
       "\n",
       "    .dataframe thead th {\n",
       "        text-align: right;\n",
       "    }\n",
       "</style>\n",
       "<table border=\"1\" class=\"dataframe\">\n",
       "  <thead>\n",
       "    <tr style=\"text-align: right;\">\n",
       "      <th></th>\n",
       "      <th>Age</th>\n",
       "      <th>Gender</th>\n",
       "      <th>Total_Bilirubin</th>\n",
       "      <th>Direct_Bilirubin</th>\n",
       "      <th>Alkaline_Phosphotase</th>\n",
       "      <th>Alamine_Aminotransferase</th>\n",
       "      <th>Aspartate_Aminotransferase</th>\n",
       "      <th>Total_Protiens</th>\n",
       "      <th>Albumin</th>\n",
       "      <th>Albumin_and_Globulin_Ratio</th>\n",
       "      <th>Liver_Problem</th>\n",
       "    </tr>\n",
       "  </thead>\n",
       "  <tbody>\n",
       "    <tr>\n",
       "      <th>209</th>\n",
       "      <td>45</td>\n",
       "      <td>Female</td>\n",
       "      <td>0.9</td>\n",
       "      <td>0.3</td>\n",
       "      <td>189</td>\n",
       "      <td>23</td>\n",
       "      <td>33</td>\n",
       "      <td>6.6</td>\n",
       "      <td>3.9</td>\n",
       "      <td>NaN</td>\n",
       "      <td>1</td>\n",
       "    </tr>\n",
       "    <tr>\n",
       "      <th>241</th>\n",
       "      <td>51</td>\n",
       "      <td>Male</td>\n",
       "      <td>0.8</td>\n",
       "      <td>0.2</td>\n",
       "      <td>230</td>\n",
       "      <td>24</td>\n",
       "      <td>46</td>\n",
       "      <td>6.5</td>\n",
       "      <td>3.1</td>\n",
       "      <td>NaN</td>\n",
       "      <td>1</td>\n",
       "    </tr>\n",
       "    <tr>\n",
       "      <th>253</th>\n",
       "      <td>35</td>\n",
       "      <td>Female</td>\n",
       "      <td>0.6</td>\n",
       "      <td>0.2</td>\n",
       "      <td>180</td>\n",
       "      <td>12</td>\n",
       "      <td>15</td>\n",
       "      <td>5.2</td>\n",
       "      <td>2.7</td>\n",
       "      <td>NaN</td>\n",
       "      <td>2</td>\n",
       "    </tr>\n",
       "    <tr>\n",
       "      <th>312</th>\n",
       "      <td>27</td>\n",
       "      <td>Male</td>\n",
       "      <td>1.3</td>\n",
       "      <td>0.6</td>\n",
       "      <td>106</td>\n",
       "      <td>25</td>\n",
       "      <td>54</td>\n",
       "      <td>8.5</td>\n",
       "      <td>4.8</td>\n",
       "      <td>NaN</td>\n",
       "      <td>2</td>\n",
       "    </tr>\n",
       "  </tbody>\n",
       "</table>\n",
       "</div>"
      ],
      "text/plain": [
       "     Age  Gender  ...  Albumin_and_Globulin_Ratio  Liver_Problem\n",
       "209   45  Female  ...                         NaN              1\n",
       "241   51    Male  ...                         NaN              1\n",
       "253   35  Female  ...                         NaN              2\n",
       "312   27    Male  ...                         NaN              2\n",
       "\n",
       "[4 rows x 11 columns]"
      ]
     },
     "execution_count": 7,
     "metadata": {
      "tags": []
     },
     "output_type": "execute_result"
    }
   ],
   "source": [
    "liver_data[liver_data['Albumin_and_Globulin_Ratio'].isnull()]"
   ]
  },
  {
   "cell_type": "code",
   "execution_count": 8,
   "metadata": {
    "colab": {},
    "colab_type": "code",
    "executionInfo": {
     "elapsed": 4037,
     "status": "ok",
     "timestamp": 1594396900537,
     "user": {
      "displayName": "RITIK DHEDIA",
      "photoUrl": "https://lh3.googleusercontent.com/a-/AOh14GjcQtHPSQc_W_fzTamID-rBWhxcimsw3eSVnRY2=s64",
      "userId": "01296339820944128981"
     },
     "user_tz": -330
    },
    "id": "pUz3sn-3tqM7"
   },
   "outputs": [],
   "source": [
    "liver_data.Albumin_and_Globulin_Ratio.fillna(liver_data['Albumin_and_Globulin_Ratio'].mean(), inplace=True)"
   ]
  },
  {
   "cell_type": "code",
   "execution_count": 9,
   "metadata": {
    "colab": {
     "base_uri": "https://localhost:8080/",
     "height": 206
    },
    "colab_type": "code",
    "executionInfo": {
     "elapsed": 4027,
     "status": "ok",
     "timestamp": 1594396900538,
     "user": {
      "displayName": "RITIK DHEDIA",
      "photoUrl": "https://lh3.googleusercontent.com/a-/AOh14GjcQtHPSQc_W_fzTamID-rBWhxcimsw3eSVnRY2=s64",
      "userId": "01296339820944128981"
     },
     "user_tz": -330
    },
    "id": "RpsPH5LltqNC",
    "outputId": "86cb722a-3b9c-4a6c-fc33-c72830a36baf",
    "scrolled": false
   },
   "outputs": [
    {
     "data": {
      "text/html": [
       "<div>\n",
       "<style scoped>\n",
       "    .dataframe tbody tr th:only-of-type {\n",
       "        vertical-align: middle;\n",
       "    }\n",
       "\n",
       "    .dataframe tbody tr th {\n",
       "        vertical-align: top;\n",
       "    }\n",
       "\n",
       "    .dataframe thead th {\n",
       "        text-align: right;\n",
       "    }\n",
       "</style>\n",
       "<table border=\"1\" class=\"dataframe\">\n",
       "  <thead>\n",
       "    <tr style=\"text-align: right;\">\n",
       "      <th></th>\n",
       "      <th>Age</th>\n",
       "      <th>Gender</th>\n",
       "      <th>Total_Bilirubin</th>\n",
       "      <th>Direct_Bilirubin</th>\n",
       "      <th>Alkaline_Phosphotase</th>\n",
       "      <th>Alamine_Aminotransferase</th>\n",
       "      <th>Aspartate_Aminotransferase</th>\n",
       "      <th>Total_Protiens</th>\n",
       "      <th>Albumin</th>\n",
       "      <th>Albumin_and_Globulin_Ratio</th>\n",
       "      <th>Liver_Problem</th>\n",
       "    </tr>\n",
       "  </thead>\n",
       "  <tbody>\n",
       "    <tr>\n",
       "      <th>0</th>\n",
       "      <td>65</td>\n",
       "      <td>0</td>\n",
       "      <td>0.7</td>\n",
       "      <td>0.1</td>\n",
       "      <td>187</td>\n",
       "      <td>16</td>\n",
       "      <td>18</td>\n",
       "      <td>6.8</td>\n",
       "      <td>3.3</td>\n",
       "      <td>0.90</td>\n",
       "      <td>1</td>\n",
       "    </tr>\n",
       "    <tr>\n",
       "      <th>1</th>\n",
       "      <td>62</td>\n",
       "      <td>1</td>\n",
       "      <td>10.9</td>\n",
       "      <td>5.5</td>\n",
       "      <td>699</td>\n",
       "      <td>64</td>\n",
       "      <td>100</td>\n",
       "      <td>7.5</td>\n",
       "      <td>3.2</td>\n",
       "      <td>0.74</td>\n",
       "      <td>1</td>\n",
       "    </tr>\n",
       "    <tr>\n",
       "      <th>2</th>\n",
       "      <td>62</td>\n",
       "      <td>1</td>\n",
       "      <td>7.3</td>\n",
       "      <td>4.1</td>\n",
       "      <td>490</td>\n",
       "      <td>60</td>\n",
       "      <td>68</td>\n",
       "      <td>7.0</td>\n",
       "      <td>3.3</td>\n",
       "      <td>0.89</td>\n",
       "      <td>1</td>\n",
       "    </tr>\n",
       "    <tr>\n",
       "      <th>3</th>\n",
       "      <td>58</td>\n",
       "      <td>1</td>\n",
       "      <td>1.0</td>\n",
       "      <td>0.4</td>\n",
       "      <td>182</td>\n",
       "      <td>14</td>\n",
       "      <td>20</td>\n",
       "      <td>6.8</td>\n",
       "      <td>3.4</td>\n",
       "      <td>1.00</td>\n",
       "      <td>1</td>\n",
       "    </tr>\n",
       "    <tr>\n",
       "      <th>4</th>\n",
       "      <td>72</td>\n",
       "      <td>1</td>\n",
       "      <td>3.9</td>\n",
       "      <td>2.0</td>\n",
       "      <td>195</td>\n",
       "      <td>27</td>\n",
       "      <td>59</td>\n",
       "      <td>7.3</td>\n",
       "      <td>2.4</td>\n",
       "      <td>0.40</td>\n",
       "      <td>1</td>\n",
       "    </tr>\n",
       "  </tbody>\n",
       "</table>\n",
       "</div>"
      ],
      "text/plain": [
       "   Age  Gender  ...  Albumin_and_Globulin_Ratio  Liver_Problem\n",
       "0   65       0  ...                        0.90              1\n",
       "1   62       1  ...                        0.74              1\n",
       "2   62       1  ...                        0.89              1\n",
       "3   58       1  ...                        1.00              1\n",
       "4   72       1  ...                        0.40              1\n",
       "\n",
       "[5 rows x 11 columns]"
      ]
     },
     "execution_count": 9,
     "metadata": {
      "tags": []
     },
     "output_type": "execute_result"
    }
   ],
   "source": [
    "#Imp One\n",
    "le = LabelEncoder()\n",
    "liver_data.Gender = le.fit_transform(liver_data.Gender)\n",
    "liver_data.head()"
   ]
  },
  {
   "cell_type": "markdown",
   "metadata": {
    "colab_type": "text",
    "id": "MrvqtGi2tqNN"
   },
   "source": [
    "# Explanation about Train and Test Data and its splitting"
   ]
  },
  {
   "cell_type": "markdown",
   "metadata": {
    "colab_type": "text",
    "id": "6UCzv20-tqNO"
   },
   "source": [
    "Often people as this question:\n",
    "\n",
    "What the point is to do 'X_train, X_test' etc.?\n",
    "\n",
    "My answer:\n",
    "\n",
    "Splitting the data into train and test data is a standard practice in data science. This I believe we know by now.\n",
    "\n",
    "Now why separate input features and target variable?\n",
    "\n",
    "For that, I would say it is more of constraint or standard practice in python. If I were to code in R programming there is no need to separate input and target variables, instead, I just separate the dataset into train and test dataset. \n",
    "\n",
    "Please consider this as something that you should remember like a rule. \n",
    "\n",
    "In python, you do it as follows as a defacto for splitting your dataset into train and test.\n",
    "\n",
    "1. You split the dataset into input features (X) and target variable ( y )\n",
    "2. Further these X and y are divide into train (X_train, y_train) and test (y_train, y_test).\n",
    "\n",
    "Technically you are just splitting your dataset into train and test only.\n",
    "\n",
    "![My Title](https://dphi.tech/wp-content/uploads/2020/06/IMG_20200620_194107-768x1024.jpg)"
   ]
  },
  {
   "cell_type": "markdown",
   "metadata": {
    "colab_type": "text",
    "id": "pycwrVCStqNP"
   },
   "source": [
    "## The above image can be read as below as well. Just pick the best of the two whichever you are comfortable to comphrehend the process"
   ]
  },
  {
   "cell_type": "markdown",
   "metadata": {
    "colab_type": "text",
    "id": "ITkbTcShtqNR"
   },
   "source": [
    "![My Title](https://dphi.tech/wp-content/uploads/2020/06/image-2-1024x552.png)"
   ]
  },
  {
   "cell_type": "markdown",
   "metadata": {
    "colab_type": "text",
    "id": "U2XUKKPLtqNT"
   },
   "source": [
    "![My Title](https://dphi.tech/wp-content/uploads/2020/06/image.png)"
   ]
  },
  {
   "cell_type": "markdown",
   "metadata": {
    "colab_type": "text",
    "id": "hGNmGTPHtqNU"
   },
   "source": [
    "## Separating input and target variables\n",
    "\n",
    "y has the label or the target variable \"Liver_Problem\" - basically this is what we need to predict. \n",
    "\n",
    "X has input variables which are used to predict y. Basically X has all the columns of our data excluding target variable \"Liver_Problem\""
   ]
  },
  {
   "cell_type": "code",
   "execution_count": 10,
   "metadata": {
    "colab": {},
    "colab_type": "code",
    "executionInfo": {
     "elapsed": 4026,
     "status": "ok",
     "timestamp": 1594396900540,
     "user": {
      "displayName": "RITIK DHEDIA",
      "photoUrl": "https://lh3.googleusercontent.com/a-/AOh14GjcQtHPSQc_W_fzTamID-rBWhxcimsw3eSVnRY2=s64",
      "userId": "01296339820944128981"
     },
     "user_tz": -330
    },
    "id": "k4mS7NwptqNW"
   },
   "outputs": [],
   "source": [
    "X = liver_data.drop('Liver_Problem', axis = 1) \n",
    "\n",
    "\n",
    "y = liver_data['Liver_Problem']"
   ]
  },
  {
   "cell_type": "markdown",
   "metadata": {
    "colab_type": "text",
    "id": "MDjm4bWStqNg"
   },
   "source": [
    "![My Title](https://dphi.tech/wp-content/uploads/2020/06/image-1-1024x608.png)"
   ]
  },
  {
   "cell_type": "markdown",
   "metadata": {
    "colab_type": "text",
    "id": "n_woHT2otqNj"
   },
   "source": [
    "# Splitting Data into Train and Test"
   ]
  },
  {
   "cell_type": "code",
   "execution_count": 11,
   "metadata": {
    "colab": {},
    "colab_type": "code",
    "executionInfo": {
     "elapsed": 4024,
     "status": "ok",
     "timestamp": 1594396900542,
     "user": {
      "displayName": "RITIK DHEDIA",
      "photoUrl": "https://lh3.googleusercontent.com/a-/AOh14GjcQtHPSQc_W_fzTamID-rBWhxcimsw3eSVnRY2=s64",
      "userId": "01296339820944128981"
     },
     "user_tz": -330
    },
    "id": "KtzexhFHtqNl"
   },
   "outputs": [],
   "source": [
    "X_train, X_test, y_train, y_test = train_test_split(X, y, test_size = 0.3, random_state = 102)"
   ]
  },
  {
   "cell_type": "markdown",
   "metadata": {
    "colab_type": "text",
    "id": "eTAt28qitqNz"
   },
   "source": [
    "# Building Logistic Regression"
   ]
  },
  {
   "cell_type": "code",
   "execution_count": 12,
   "metadata": {
    "colab": {},
    "colab_type": "code",
    "executionInfo": {
     "elapsed": 4021,
     "status": "ok",
     "timestamp": 1594396900544,
     "user": {
      "displayName": "RITIK DHEDIA",
      "photoUrl": "https://lh3.googleusercontent.com/a-/AOh14GjcQtHPSQc_W_fzTamID-rBWhxcimsw3eSVnRY2=s64",
      "userId": "01296339820944128981"
     },
     "user_tz": -330
    },
    "id": "J1UlIkNXtqN0"
   },
   "outputs": [],
   "source": [
    "model = LogisticRegression()"
   ]
  },
  {
   "cell_type": "code",
   "execution_count": 13,
   "metadata": {
    "colab": {
     "base_uri": "https://localhost:8080/",
     "height": 104
    },
    "colab_type": "code",
    "executionInfo": {
     "elapsed": 4012,
     "status": "ok",
     "timestamp": 1594396900545,
     "user": {
      "displayName": "RITIK DHEDIA",
      "photoUrl": "https://lh3.googleusercontent.com/a-/AOh14GjcQtHPSQc_W_fzTamID-rBWhxcimsw3eSVnRY2=s64",
      "userId": "01296339820944128981"
     },
     "user_tz": -330
    },
    "id": "_-fUsQ3ZtqN8",
    "outputId": "856447f7-107d-4ebc-b8ae-1a01dcaf9d91"
   },
   "outputs": [
    {
     "data": {
      "text/plain": [
       "LogisticRegression(C=1.0, class_weight=None, dual=False, fit_intercept=True,\n",
       "                   intercept_scaling=1, l1_ratio=None, max_iter=100,\n",
       "                   multi_class='auto', n_jobs=None, penalty='l2',\n",
       "                   random_state=None, solver='lbfgs', tol=0.0001, verbose=0,\n",
       "                   warm_start=False)"
      ]
     },
     "execution_count": 13,
     "metadata": {
      "tags": []
     },
     "output_type": "execute_result"
    }
   ],
   "source": [
    "model.fit(X_train, y_train)"
   ]
  },
  {
   "cell_type": "code",
   "execution_count": 14,
   "metadata": {
    "colab": {},
    "colab_type": "code",
    "executionInfo": {
     "elapsed": 4011,
     "status": "ok",
     "timestamp": 1594396900549,
     "user": {
      "displayName": "RITIK DHEDIA",
      "photoUrl": "https://lh3.googleusercontent.com/a-/AOh14GjcQtHPSQc_W_fzTamID-rBWhxcimsw3eSVnRY2=s64",
      "userId": "01296339820944128981"
     },
     "user_tz": -330
    },
    "id": "aVd5LXGotqOD"
   },
   "outputs": [],
   "source": [
    "pred = model.predict(X_test)"
   ]
  },
  {
   "cell_type": "code",
   "execution_count": 15,
   "metadata": {
    "colab": {
     "base_uri": "https://localhost:8080/",
     "height": 86
    },
    "colab_type": "code",
    "executionInfo": {
     "elapsed": 4003,
     "status": "ok",
     "timestamp": 1594396900550,
     "user": {
      "displayName": "RITIK DHEDIA",
      "photoUrl": "https://lh3.googleusercontent.com/a-/AOh14GjcQtHPSQc_W_fzTamID-rBWhxcimsw3eSVnRY2=s64",
      "userId": "01296339820944128981"
     },
     "user_tz": -330
    },
    "id": "nmS-GJ8MtqOK",
    "outputId": "1046fd78-0a56-4fae-b3a5-2a9f5f901b4f"
   },
   "outputs": [
    {
     "name": "stdout",
     "output_type": "stream",
     "text": [
      "True Positive 6\n",
      "True Negative 95\n",
      "False Positive 3\n",
      "False Negative 46\n"
     ]
    }
   ],
   "source": [
    "#Imp Point\n",
    "from sklearn.metrics import confusion_matrix\n",
    "tn, fp, fn, tp = confusion_matrix(y_test, pred).ravel()\n",
    "print(\"True Positive\", tp)\n",
    "print(\"True Negative\", tn)\n",
    "print(\"False Positive\", fp)\n",
    "print(\"False Negative\", fn)"
   ]
  },
  {
   "cell_type": "code",
   "execution_count": 16,
   "metadata": {
    "colab": {
     "base_uri": "https://localhost:8080/",
     "height": 34
    },
    "colab_type": "code",
    "executionInfo": {
     "elapsed": 3997,
     "status": "ok",
     "timestamp": 1594396900552,
     "user": {
      "displayName": "RITIK DHEDIA",
      "photoUrl": "https://lh3.googleusercontent.com/a-/AOh14GjcQtHPSQc_W_fzTamID-rBWhxcimsw3eSVnRY2=s64",
      "userId": "01296339820944128981"
     },
     "user_tz": -330
    },
    "id": "8DQPtvBytqOR",
    "outputId": "8c464f9b-1b8a-4b24-dde6-e58ced8e5bcf"
   },
   "outputs": [
    {
     "data": {
      "text/plain": [
       "0.6733333333333333"
      ]
     },
     "execution_count": 16,
     "metadata": {
      "tags": []
     },
     "output_type": "execute_result"
    }
   ],
   "source": [
    "from sklearn.metrics import accuracy_score\n",
    "accuracy_score(y_test, pred)"
   ]
  },
  {
   "cell_type": "code",
   "execution_count": 17,
   "metadata": {
    "colab": {},
    "colab_type": "code",
    "executionInfo": {
     "elapsed": 3994,
     "status": "ok",
     "timestamp": 1594396900553,
     "user": {
      "displayName": "RITIK DHEDIA",
      "photoUrl": "https://lh3.googleusercontent.com/a-/AOh14GjcQtHPSQc_W_fzTamID-rBWhxcimsw3eSVnRY2=s64",
      "userId": "01296339820944128981"
     },
     "user_tz": -330
    },
    "id": "ugonFLTFtqOc"
   },
   "outputs": [],
   "source": [
    "test_new = pd.read_csv('https://raw.githubusercontent.com/dphi-official/Datasets/master/liver_patient_data/indian_liver_patient_new_testdataset.csv')"
   ]
  },
  {
   "cell_type": "code",
   "execution_count": 18,
   "metadata": {
    "colab": {
     "base_uri": "https://localhost:8080/",
     "height": 206
    },
    "colab_type": "code",
    "executionInfo": {
     "elapsed": 3988,
     "status": "ok",
     "timestamp": 1594396900553,
     "user": {
      "displayName": "RITIK DHEDIA",
      "photoUrl": "https://lh3.googleusercontent.com/a-/AOh14GjcQtHPSQc_W_fzTamID-rBWhxcimsw3eSVnRY2=s64",
      "userId": "01296339820944128981"
     },
     "user_tz": -330
    },
    "id": "UoVLv4e4tqOk",
    "outputId": "9cff10c6-546b-402e-c6b2-96fe7ea296cc"
   },
   "outputs": [
    {
     "data": {
      "text/html": [
       "<div>\n",
       "<style scoped>\n",
       "    .dataframe tbody tr th:only-of-type {\n",
       "        vertical-align: middle;\n",
       "    }\n",
       "\n",
       "    .dataframe tbody tr th {\n",
       "        vertical-align: top;\n",
       "    }\n",
       "\n",
       "    .dataframe thead th {\n",
       "        text-align: right;\n",
       "    }\n",
       "</style>\n",
       "<table border=\"1\" class=\"dataframe\">\n",
       "  <thead>\n",
       "    <tr style=\"text-align: right;\">\n",
       "      <th></th>\n",
       "      <th>Age</th>\n",
       "      <th>Gender</th>\n",
       "      <th>Total_Bilirubin</th>\n",
       "      <th>Direct_Bilirubin</th>\n",
       "      <th>Alkaline_Phosphotase</th>\n",
       "      <th>Alamine_Aminotransferase</th>\n",
       "      <th>Aspartate_Aminotransferase</th>\n",
       "      <th>Total_Protiens</th>\n",
       "      <th>Albumin</th>\n",
       "      <th>Albumin_and_Globulin_Ratio</th>\n",
       "    </tr>\n",
       "  </thead>\n",
       "  <tbody>\n",
       "    <tr>\n",
       "      <th>0</th>\n",
       "      <td>36</td>\n",
       "      <td>Male</td>\n",
       "      <td>2.8</td>\n",
       "      <td>1.5</td>\n",
       "      <td>305</td>\n",
       "      <td>28</td>\n",
       "      <td>76</td>\n",
       "      <td>5.9</td>\n",
       "      <td>2.5</td>\n",
       "      <td>0.7</td>\n",
       "    </tr>\n",
       "    <tr>\n",
       "      <th>1</th>\n",
       "      <td>42</td>\n",
       "      <td>Male</td>\n",
       "      <td>0.8</td>\n",
       "      <td>0.2</td>\n",
       "      <td>127</td>\n",
       "      <td>29</td>\n",
       "      <td>30</td>\n",
       "      <td>4.9</td>\n",
       "      <td>2.7</td>\n",
       "      <td>1.2</td>\n",
       "    </tr>\n",
       "    <tr>\n",
       "      <th>2</th>\n",
       "      <td>53</td>\n",
       "      <td>Male</td>\n",
       "      <td>19.8</td>\n",
       "      <td>10.4</td>\n",
       "      <td>238</td>\n",
       "      <td>39</td>\n",
       "      <td>221</td>\n",
       "      <td>8.1</td>\n",
       "      <td>2.5</td>\n",
       "      <td>0.4</td>\n",
       "    </tr>\n",
       "    <tr>\n",
       "      <th>3</th>\n",
       "      <td>32</td>\n",
       "      <td>Male</td>\n",
       "      <td>30.5</td>\n",
       "      <td>17.1</td>\n",
       "      <td>218</td>\n",
       "      <td>39</td>\n",
       "      <td>79</td>\n",
       "      <td>5.5</td>\n",
       "      <td>2.7</td>\n",
       "      <td>0.9</td>\n",
       "    </tr>\n",
       "    <tr>\n",
       "      <th>4</th>\n",
       "      <td>32</td>\n",
       "      <td>Male</td>\n",
       "      <td>32.6</td>\n",
       "      <td>14.1</td>\n",
       "      <td>219</td>\n",
       "      <td>95</td>\n",
       "      <td>235</td>\n",
       "      <td>5.8</td>\n",
       "      <td>3.1</td>\n",
       "      <td>1.1</td>\n",
       "    </tr>\n",
       "  </tbody>\n",
       "</table>\n",
       "</div>"
      ],
      "text/plain": [
       "   Age Gender  ...  Albumin  Albumin_and_Globulin_Ratio\n",
       "0   36   Male  ...      2.5                         0.7\n",
       "1   42   Male  ...      2.7                         1.2\n",
       "2   53   Male  ...      2.5                         0.4\n",
       "3   32   Male  ...      2.7                         0.9\n",
       "4   32   Male  ...      3.1                         1.1\n",
       "\n",
       "[5 rows x 10 columns]"
      ]
     },
     "execution_count": 18,
     "metadata": {
      "tags": []
     },
     "output_type": "execute_result"
    }
   ],
   "source": [
    "test_new.head()"
   ]
  },
  {
   "cell_type": "code",
   "execution_count": 19,
   "metadata": {
    "colab": {
     "base_uri": "https://localhost:8080/",
     "height": 206
    },
    "colab_type": "code",
    "executionInfo": {
     "elapsed": 3981,
     "status": "ok",
     "timestamp": 1594396900555,
     "user": {
      "displayName": "RITIK DHEDIA",
      "photoUrl": "https://lh3.googleusercontent.com/a-/AOh14GjcQtHPSQc_W_fzTamID-rBWhxcimsw3eSVnRY2=s64",
      "userId": "01296339820944128981"
     },
     "user_tz": -330
    },
    "id": "QEwAr_UGtqOu",
    "outputId": "d8931483-b51e-4b2e-b8a1-03f1d48a338c"
   },
   "outputs": [
    {
     "data": {
      "text/html": [
       "<div>\n",
       "<style scoped>\n",
       "    .dataframe tbody tr th:only-of-type {\n",
       "        vertical-align: middle;\n",
       "    }\n",
       "\n",
       "    .dataframe tbody tr th {\n",
       "        vertical-align: top;\n",
       "    }\n",
       "\n",
       "    .dataframe thead th {\n",
       "        text-align: right;\n",
       "    }\n",
       "</style>\n",
       "<table border=\"1\" class=\"dataframe\">\n",
       "  <thead>\n",
       "    <tr style=\"text-align: right;\">\n",
       "      <th></th>\n",
       "      <th>Age</th>\n",
       "      <th>Gender</th>\n",
       "      <th>Total_Bilirubin</th>\n",
       "      <th>Direct_Bilirubin</th>\n",
       "      <th>Alkaline_Phosphotase</th>\n",
       "      <th>Alamine_Aminotransferase</th>\n",
       "      <th>Aspartate_Aminotransferase</th>\n",
       "      <th>Total_Protiens</th>\n",
       "      <th>Albumin</th>\n",
       "      <th>Albumin_and_Globulin_Ratio</th>\n",
       "    </tr>\n",
       "  </thead>\n",
       "  <tbody>\n",
       "    <tr>\n",
       "      <th>0</th>\n",
       "      <td>36</td>\n",
       "      <td>1</td>\n",
       "      <td>2.8</td>\n",
       "      <td>1.5</td>\n",
       "      <td>305</td>\n",
       "      <td>28</td>\n",
       "      <td>76</td>\n",
       "      <td>5.9</td>\n",
       "      <td>2.5</td>\n",
       "      <td>0.7</td>\n",
       "    </tr>\n",
       "    <tr>\n",
       "      <th>1</th>\n",
       "      <td>42</td>\n",
       "      <td>1</td>\n",
       "      <td>0.8</td>\n",
       "      <td>0.2</td>\n",
       "      <td>127</td>\n",
       "      <td>29</td>\n",
       "      <td>30</td>\n",
       "      <td>4.9</td>\n",
       "      <td>2.7</td>\n",
       "      <td>1.2</td>\n",
       "    </tr>\n",
       "    <tr>\n",
       "      <th>2</th>\n",
       "      <td>53</td>\n",
       "      <td>1</td>\n",
       "      <td>19.8</td>\n",
       "      <td>10.4</td>\n",
       "      <td>238</td>\n",
       "      <td>39</td>\n",
       "      <td>221</td>\n",
       "      <td>8.1</td>\n",
       "      <td>2.5</td>\n",
       "      <td>0.4</td>\n",
       "    </tr>\n",
       "    <tr>\n",
       "      <th>3</th>\n",
       "      <td>32</td>\n",
       "      <td>1</td>\n",
       "      <td>30.5</td>\n",
       "      <td>17.1</td>\n",
       "      <td>218</td>\n",
       "      <td>39</td>\n",
       "      <td>79</td>\n",
       "      <td>5.5</td>\n",
       "      <td>2.7</td>\n",
       "      <td>0.9</td>\n",
       "    </tr>\n",
       "    <tr>\n",
       "      <th>4</th>\n",
       "      <td>32</td>\n",
       "      <td>1</td>\n",
       "      <td>32.6</td>\n",
       "      <td>14.1</td>\n",
       "      <td>219</td>\n",
       "      <td>95</td>\n",
       "      <td>235</td>\n",
       "      <td>5.8</td>\n",
       "      <td>3.1</td>\n",
       "      <td>1.1</td>\n",
       "    </tr>\n",
       "  </tbody>\n",
       "</table>\n",
       "</div>"
      ],
      "text/plain": [
       "   Age  Gender  ...  Albumin  Albumin_and_Globulin_Ratio\n",
       "0   36       1  ...      2.5                         0.7\n",
       "1   42       1  ...      2.7                         1.2\n",
       "2   53       1  ...      2.5                         0.4\n",
       "3   32       1  ...      2.7                         0.9\n",
       "4   32       1  ...      3.1                         1.1\n",
       "\n",
       "[5 rows x 10 columns]"
      ]
     },
     "execution_count": 19,
     "metadata": {
      "tags": []
     },
     "output_type": "execute_result"
    }
   ],
   "source": [
    "le = LabelEncoder()\n",
    "test_new.Gender = le.fit_transform(test_new.Gender)\n",
    "test_new.head()"
   ]
  },
  {
   "cell_type": "code",
   "execution_count": 20,
   "metadata": {
    "colab": {},
    "colab_type": "code",
    "executionInfo": {
     "elapsed": 3981,
     "status": "ok",
     "timestamp": 1594396900559,
     "user": {
      "displayName": "RITIK DHEDIA",
      "photoUrl": "https://lh3.googleusercontent.com/a-/AOh14GjcQtHPSQc_W_fzTamID-rBWhxcimsw3eSVnRY2=s64",
      "userId": "01296339820944128981"
     },
     "user_tz": -330
    },
    "id": "Zb867Ts9tqO4"
   },
   "outputs": [],
   "source": [
    "Liver_Problem = model.predict(test_new)"
   ]
  },
  {
   "cell_type": "markdown",
   "metadata": {
    "colab_type": "text",
    "id": "-I8G9NrEtqO_"
   },
   "source": [
    "# Downloading the prediction file"
   ]
  },
  {
   "cell_type": "code",
   "execution_count": 21,
   "metadata": {
    "colab": {},
    "colab_type": "code",
    "executionInfo": {
     "elapsed": 3978,
     "status": "ok",
     "timestamp": 1594396900559,
     "user": {
      "displayName": "RITIK DHEDIA",
      "photoUrl": "https://lh3.googleusercontent.com/a-/AOh14GjcQtHPSQc_W_fzTamID-rBWhxcimsw3eSVnRY2=s64",
      "userId": "01296339820944128981"
     },
     "user_tz": -330
    },
    "id": "x-GRCORCtqPA"
   },
   "outputs": [],
   "source": [
    "#For Jupyter N.B\n",
    "res = pd.DataFrame(Liver_Problem)\n",
    "res.index = test_new.index # its important for comparison\n",
    "res.columns = [\"Liver_Problem\"]\n",
    "res.to_csv(\"prediction_results_Liver_Problem.csv\")      # the csv file will be saved locally on the same location where this notebook is located."
   ]
  },
  {
   "cell_type": "code",
   "execution_count": 22,
   "metadata": {
    "colab": {
     "base_uri": "https://localhost:8080/",
     "height": 17
    },
    "colab_type": "code",
    "executionInfo": {
     "elapsed": 3973,
     "status": "ok",
     "timestamp": 1594396900561,
     "user": {
      "displayName": "RITIK DHEDIA",
      "photoUrl": "https://lh3.googleusercontent.com/a-/AOh14GjcQtHPSQc_W_fzTamID-rBWhxcimsw3eSVnRY2=s64",
      "userId": "01296339820944128981"
     },
     "user_tz": -330
    },
    "id": "cZL_LKUSFumo",
    "outputId": "d3b9ed43-b84c-417c-9daf-b492e3d5715b"
   },
   "outputs": [
    {
     "data": {
      "application/javascript": [
       "\n",
       "    async function download(id, filename, size) {\n",
       "      if (!google.colab.kernel.accessAllowed) {\n",
       "        return;\n",
       "      }\n",
       "      const div = document.createElement('div');\n",
       "      const label = document.createElement('label');\n",
       "      label.textContent = `Downloading \"${filename}\": `;\n",
       "      div.appendChild(label);\n",
       "      const progress = document.createElement('progress');\n",
       "      progress.max = size;\n",
       "      div.appendChild(progress);\n",
       "      document.body.appendChild(div);\n",
       "\n",
       "      const buffers = [];\n",
       "      let downloaded = 0;\n",
       "\n",
       "      const channel = await google.colab.kernel.comms.open(id);\n",
       "      // Send a message to notify the kernel that we're ready.\n",
       "      channel.send({})\n",
       "\n",
       "      for await (const message of channel.messages) {\n",
       "        // Send a message to notify the kernel that we're ready.\n",
       "        channel.send({})\n",
       "        if (message.buffers) {\n",
       "          for (const buffer of message.buffers) {\n",
       "            buffers.push(buffer);\n",
       "            downloaded += buffer.byteLength;\n",
       "            progress.value = downloaded;\n",
       "          }\n",
       "        }\n",
       "      }\n",
       "      const blob = new Blob(buffers, {type: 'application/binary'});\n",
       "      const a = document.createElement('a');\n",
       "      a.href = window.URL.createObjectURL(blob);\n",
       "      a.download = filename;\n",
       "      div.appendChild(a);\n",
       "      a.click();\n",
       "      div.remove();\n",
       "    }\n",
       "  "
      ],
      "text/plain": [
       "<IPython.core.display.Javascript object>"
      ]
     },
     "metadata": {
      "tags": []
     },
     "output_type": "display_data"
    },
    {
     "data": {
      "application/javascript": [
       "download(\"download_4426a278-d941-4854-8891-535bd9158767\", \"prediction_results_Liver_Problem.csv\", 415)"
      ],
      "text/plain": [
       "<IPython.core.display.Javascript object>"
      ]
     },
     "metadata": {
      "tags": []
     },
     "output_type": "display_data"
    }
   ],
   "source": [
    "#For Colab N.B\n",
    "# To create Dataframe of predicted value with particular respective index\n",
    "res = pd.DataFrame(Liver_Problem) #preditcions are nothing but the final predictions of your model on input features of your new unseen test data\n",
    "res.index = test_new.index # its important for comparison. Here \"test_new\" is your new test dataset\n",
    "res.columns = [\"Liver_Problem\"]\n",
    "\n",
    "# To download the csv file locally\n",
    "from google.colab import files\n",
    "res.to_csv('prediction_results_Liver_Problem.csv')         \n",
    "files.download('prediction_results_Liver_Problem.csv')\n",
    "\n"
   ]
  }
 ],
 "metadata": {
  "colab": {
   "collapsed_sections": [],
   "name": "Liver Patients-logisReg .ipynb",
   "provenance": [
    {
     "file_id": "https://github.com/dphi-official/ML_Models/blob/master/Logistic_Regression/Basic_Logistic_Model_Week_4_Day_2.ipynb",
     "timestamp": 1594390154647
    }
   ]
  },
  "kernelspec": {
   "display_name": "Python 3",
   "language": "python",
   "name": "python3"
  },
  "language_info": {
   "codemirror_mode": {
    "name": "ipython",
    "version": 3
   },
   "file_extension": ".py",
   "mimetype": "text/x-python",
   "name": "python",
   "nbconvert_exporter": "python",
   "pygments_lexer": "ipython3",
   "version": "3.6.4"
  }
 },
 "nbformat": 4,
 "nbformat_minor": 1
}
